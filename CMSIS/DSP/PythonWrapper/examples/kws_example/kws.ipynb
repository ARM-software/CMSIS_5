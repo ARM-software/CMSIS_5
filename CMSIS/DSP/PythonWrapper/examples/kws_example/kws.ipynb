{
 "cells": [
  {
   "cell_type": "markdown",
   "id": "241df33e",
   "metadata": {},
   "source": [
    "# Simple keyword spotting with CMSIS-DSP Python wrapper and Arduino"
   ]
  },
  {
   "cell_type": "markdown",
   "id": "3652bb1c",
   "metadata": {},
   "source": [
    "The goal of this notebook is to demonstrate how to use the CMSIS-DSP Python wrapper on an example which is complex enough.\n",
    "\n",
    "It is not a state of the art keyword recognition system. The feature used for the machine learning is very simple and just able to recognize the \"Yes\" keyword.\n",
    "\n",
    "But it is a good start and enough to demonstrate lots of features of the Python wrapper like:\n",
    "\n",
    "* Testing the CMSIS-DSP algorithm directly in Python\n",
    "* Test of fixed point implementation\n",
    "* Implementation of the compute graph and streaming computation from the CMSIS-DSP Synchronous Data Flow framework\n",
    "* C++ code generation for the compute graph\n",
    "* Final implementation for Arduino Nano 33 BLE"
   ]
  },
  {
   "cell_type": "markdown",
   "id": "23aa0adb",
   "metadata": {},
   "source": [
    "Several Python packages are required. If they are not already installed on you system, you can install them from the notebook by using:\n",
    "\n",
    "`!pip install packagename`\n",
    "\n",
    "The machine learning is using scikit-learn. For scientific computations, we are using SciPy, NumPy and Matplotlib.\n",
    "\n",
    "For reading wav files, the soundfile package is used.\n",
    "\n",
    "Other packages will be used below in the notebook and will have to be installed."
   ]
  },
  {
   "cell_type": "code",
   "execution_count": 1,
   "id": "d8ef4050",
   "metadata": {
    "scrolled": true
   },
   "outputs": [],
   "source": [
    "import cmsisdsp as dsp\n",
    "import cmsisdsp.fixedpoint as fix\n",
    "import numpy as np\n",
    "import os.path\n",
    "import glob\n",
    "import pathlib\n",
    "import random\n",
    "import soundfile as sf\n",
    "import matplotlib.pyplot as plt\n",
    "from IPython.display import display,Audio,HTML\n",
    "import scipy.signal\n",
    "from numpy.lib.stride_tricks import sliding_window_view\n",
    "from scipy.signal.windows import hann\n",
    "from sklearn import svm\n",
    "from sklearn.metrics import confusion_matrix, ConfusionMatrixDisplay\n",
    "from sklearn.model_selection import GridSearchCV\n",
    "from sklearn.model_selection import RandomizedSearchCV\n",
    "from scipy.stats import uniform\n",
    "from sklearn.linear_model import LogisticRegression\n",
    "import pickle"
   ]
  },
  {
   "cell_type": "markdown",
   "id": "5b7926c9",
   "metadata": {},
   "source": [
    "## The speech commands\n",
    "\n",
    "We are using the simplified speech commands from the TensorFlow Lite tutorial.\n",
    "\n",
    "Those commands can be downloaded from this link: \"http://storage.googleapis.com/download.tensorflow.org/data/mini_speech_commands.zip\"\n",
    "\n",
    "Once the zip has been uncompressed, you'll need to change the path of the folder below."
   ]
  },
  {
   "cell_type": "markdown",
   "id": "352220f9",
   "metadata": {},
   "source": [
    "The below code is loading the list of commands available in the `mini_speech_commands` folder and it is describing the words we want to detect. Here we only want to detect the `Yes` keyword.\n",
    "\n",
    "You can add other keywords but the CMSIS-DSP implementation in this notebook is only supporting one keyword.\n",
    "Nevertheless, if you'd like to experiment with the training of the ML model and different features, then you can work with more commands."
   ]
  },
  {
   "cell_type": "code",
   "execution_count": 2,
   "id": "3fb202b4",
   "metadata": {},
   "outputs": [],
   "source": [
    "MINISPEECH=\"mini_speech_commands\"\n",
    "commands=np.array([os.path.basename(f) for f in glob.glob(os.path.join(MINISPEECH,\"mini_speech_commands\",\"*\"))])\n",
    "commands=commands[commands != \"README.md\"]\n",
    "# Any other word will be recognized as unknown\n",
    "to_keep=['yes']"
   ]
  },
  {
   "cell_type": "markdown",
   "id": "3bc4b610",
   "metadata": {},
   "source": [
    "The below code is generating a label ID for a command. The ID will be -1 for any command not in the `to_keep` list. Other ID will be the index of the keyword in this list."
   ]
  },
  {
   "cell_type": "code",
   "execution_count": 3,
   "id": "9df05672",
   "metadata": {},
   "outputs": [],
   "source": [
    "UNKNOWN_CLASS = -1\n",
    "def get_label(name):\n",
    "    return(pathlib.PurePath(name).parts[-2])\n",
    "def get_label_id(name):\n",
    "    label=get_label(name)\n",
    "    if label in to_keep:\n",
    "        return(to_keep.index(label))\n",
    "    else:\n",
    "        return(UNKNOWN_CLASS)"
   ]
  },
  {
   "cell_type": "markdown",
   "id": "7cf6b745",
   "metadata": {},
   "source": [
    "## The feature\n",
    "\n",
    "The feature is based on a simple zero crossing rate (zcr). We choose to only keep the increasing crossing. I don't think it is making a lot of differences for the final performance of the keyword recognition.\n",
    "\n",
    "The `zcr` function is computing the zcr for a window of samples."
   ]
  },
  {
   "cell_type": "code",
   "execution_count": 4,
   "id": "f24e5b4c",
   "metadata": {},
   "outputs": [],
   "source": [
    "def zcr(w):\n",
    "    w = w-np.mean(w)\n",
    "    f=w[:-1]\n",
    "    g=w[1:]\n",
    "    k=np.count_nonzero(np.logical_and(f*g<0, g>f))\n",
    "    return(1.0*k/len(f))\n",
    "        "
   ]
  },
  {
   "cell_type": "markdown",
   "id": "a218c0e5",
   "metadata": {},
   "source": [
    "The final feature is the zcr computed on a segment of 1 second and filtered. We are using a sliding window and using a Hann window."
   ]
  },
  {
   "cell_type": "code",
   "execution_count": 6,
   "id": "4dc76d14",
   "metadata": {},
   "outputs": [],
   "source": [
    "def feature(data):\n",
    "    samplerate=16000\n",
    "    input_len = 16000\n",
    "    \n",
    "    # The speech pattern is padded to ensure it has a duration of 1 second\n",
    "    \n",
    "    waveform = data[:input_len]\n",
    "    \n",
    "    zero_padding = np.zeros(\n",
    "      16000 - waveform.shape[0],\n",
    "      dtype=np.float32)\n",
    "   \n",
    "   \n",
    "    signal = np.hstack([waveform, zero_padding])\n",
    "    \n",
    "    \n",
    "    # We decompose the intput signal into overlapping window. And the signal in each window\n",
    "    # is premultiplied by a Hann window of the right size.\n",
    "    # Warning : if you change the window duration and audio offset, you'll need to change the value\n",
    "    # in the scripts used for the scheduling of the compute graph later.\n",
    "    winDuration=25e-3\n",
    "    audioOffsetDuration=10e-3\n",
    "    winLength=int(np.floor(samplerate*winDuration))\n",
    "    audioOffset=int(np.floor(samplerate*audioOffsetDuration))\n",
    "    overlap=winLength-audioOffset\n",
    "    window=hann(winLength,sym=False)\n",
    "    reta=[zcr(x*window) for x in sliding_window_view(signal,winLength)[::audioOffset,:]]\n",
    "    \n",
    "    # The final signal is filtered. We have tested several variations on the feature. This filtering is\n",
    "    # improving the recognition\n",
    "    reta=scipy.signal.lfilter(np.ones(10)/10.0,[1],reta)\n",
    "    return(np.array(reta))"
   ]
  },
  {
   "cell_type": "markdown",
   "id": "40b040df",
   "metadata": {},
   "source": [
    "## The patterns\n",
    "\n",
    "The below class is representing a Pattern. A pattern can either be a sound file from the TensorFlow Lite examples and in this case we compute the feature and the label id.\n",
    "\n",
    "The pattern can also be a random white noise. In that case, we also compute the feature and the class id is -1.\n",
    "\n",
    "Note that when you use the signal property, the speech patterns will return the content of the file but noise patterns will generate a random noise which will thus be different each time."
   ]
  },
  {
   "cell_type": "code",
   "execution_count": 7,
   "id": "279b0999",
   "metadata": {},
   "outputs": [],
   "source": [
    "class Pattern:\n",
    "    def __init__(self,p):\n",
    "        global UNKNOWN_CLASS\n",
    "        if isinstance(p, str):\n",
    "            self._isFile=True \n",
    "            self._filename=p\n",
    "            self._label=get_label_id(p)\n",
    "    \n",
    "            data, samplerate = sf.read(self._filename)\n",
    "            self._feature = feature(data)\n",
    "        else:\n",
    "            self._isFile=False\n",
    "            self._noiseLevel=p\n",
    "            self._label=UNKNOWN_CLASS\n",
    "            \n",
    "            noise=np.random.randn(16000)*p\n",
    "            self._feature=feature(noise)\n",
    "            \n",
    "    @property\n",
    "    def label(self):\n",
    "        return(self._label)\n",
    "            \n",
    "    @property\n",
    "    def feature(self):\n",
    "        return(self._feature)\n",
    "        \n",
    "        \n",
    "    # Only useful for plotting\n",
    "    # The random pattern will be different each time\n",
    "    @property\n",
    "    def signal(self):\n",
    "        if not self._isFile:\n",
    "            return(np.random.randn(16000)*self._noiseLevel)\n",
    "        else:\n",
    "            data, samplerate = sf.read(self._filename)\n",
    "            return(data)\n",
    "        "
   ]
  },
  {
   "cell_type": "markdown",
   "id": "099433f6",
   "metadata": {},
   "source": [
    "Following code is giving the number of speech samples for each keyword.\n",
    "It is assuming that all keywords contain the same number of samples."
   ]
  },
  {
   "cell_type": "code",
   "execution_count": 8,
   "id": "79588da0",
   "metadata": {},
   "outputs": [
    {
     "data": {
      "text/plain": [
       "1000"
      ]
     },
     "execution_count": 8,
     "metadata": {},
     "output_type": "execute_result"
    }
   ],
   "source": [
    "files_per_command=len(glob.glob(os.path.join(MINISPEECH,\"mini_speech_commands\",commands[0],\"*\")))\n",
    "files_per_command"
   ]
  },
  {
   "cell_type": "markdown",
   "id": "bb329acb",
   "metadata": {},
   "source": [
    "The following code is generating the patterns used for the training of the ML model,.\n",
    "It is reading patterns for all the words we want to keep (from `to_keep` list) and it is aggregating all other keywords in the unknown class.\n",
    "\n",
    "It is also generating some random noise patterns.For the unknown class, the number of patterns will always be `files_per_command` but some patterns may be noise rather than sound files.\n",
    "\n",
    "There is some randomization of file names. So each time this code is executed, you'll get patterns in a different order and for the unknown class, which is containing more than `files_per_command`, you'll get a different subset of those patterns (thr subset will have the right length `files_per_command`).\n",
    "\n",
    "Finally the patterns are also randomized so that the split between training and test patterns will select different patterns each time this code is executed."
   ]
  },
  {
   "cell_type": "code",
   "execution_count": 9,
   "id": "e4e8bf7d",
   "metadata": {},
   "outputs": [],
   "source": [
    "# Add patterns we want to detect\n",
    "filenames=[]\n",
    "for f in to_keep:\n",
    "    filenames+=glob.glob(os.path.join(MINISPEECH,\"mini_speech_commands\",f,\"*\"))\n",
    "\n",
    "    \n",
    "random.shuffle(filenames)\n",
    "    \n",
    "# Add remaining patterns\n",
    "remaining_words=list(set(commands)-set(to_keep))\n",
    "nb_noise=0\n",
    "\n",
    "remaining=[]\n",
    "for f in remaining_words:\n",
    "    remaining+=glob.glob(os.path.join(MINISPEECH,\"mini_speech_commands\",f,\"*\"))\n",
    "    \n",
    "random.shuffle(remaining)\n",
    "\n",
    "\n",
    "filenames += remaining[0:files_per_command-nb_noise]\n",
    "\n",
    "patterns=[Pattern(x) for x in filenames]\n",
    "\n",
    "for i in range(nb_noise):\n",
    "    patterns.append(Pattern(np.abs(np.random.rand(1)*0.05)[0]))\n",
    "    \n",
    "random.shuffle(patterns)"
   ]
  },
  {
   "cell_type": "markdown",
   "id": "cc8b0033",
   "metadata": {},
   "source": [
    "Below code is extracting the training and test patterns.\n",
    "This will be used later to generate the array used by scikit learn to train the model."
   ]
  },
  {
   "cell_type": "code",
   "execution_count": 10,
   "id": "e9ebb293",
   "metadata": {},
   "outputs": [
    {
     "name": "stdout",
     "output_type": "stream",
     "text": [
      "2000\n"
     ]
    }
   ],
   "source": [
    "print(len(patterns))\n",
    "patterns=np.array(patterns)\n",
    "\n",
    "nb_patterns = len(patterns)\n",
    "nb_train= int(np.floor(0.8 * nb_patterns))\n",
    "nb_tests=nb_patterns-nb_train\n",
    "\n",
    "train_patterns = patterns[:nb_train]\n",
    "test_patterns = patterns[-nb_tests:]"
   ]
  },
  {
   "cell_type": "markdown",
   "id": "bab9b1d2",
   "metadata": {},
   "source": [
    "## Testing on a signal\n",
    "\n",
    "The following code is displaying a pattern as example."
   ]
  },
  {
   "cell_type": "code",
   "execution_count": 11,
   "id": "b298cfea",
   "metadata": {},
   "outputs": [
    {
     "data": {
      "image/png": "[encoded data removed]",
      "text/plain": [
       "<Figure size 432x288 with 1 Axes>"
      ]
     },
     "metadata": {
      "needs_background": "light"
     },
     "output_type": "display_data"
    }
   ],
   "source": [
    "nbpat=50\n",
    "data = patterns[nbpat].signal\n",
    "samplerate=16000\n",
    "plt.plot(data)\n",
    "plt.show()"
   ]
  },
  {
   "cell_type": "code",
   "execution_count": 12,
   "id": "bbdb9edd",
   "metadata": {},
   "outputs": [
    {
     "data": {
      "text/html": [
       "\n",
       "                <audio  controls=\"controls\" >\n",
       "                    <source src=\"data:audio/wav;base64,UklGRiR9AABXQVZFZm10IBAAAAABAAEAgD4AAAB9AAACABAAZGF0YQB9AAC8AvEDnwMWBCUFdgWHBX0FwAXOBUQG0wZIBhIGvQXvBMQFqgaSBjAGXQQxBGUFVwUSBhsFXQQ0Bj4GVAV5BYoFXgUQBYcFRwWhBMIEKgTIA8UDlgRkBOIChAM7BCAEkAS1BEcF/ASHBbMFmwVyB+oGEgZUBT4E+QT0AzoDqQO4BPAFsgSfAy0E5ATJBBsF7QOEA7gETAQ2BQEGFwVbBZYEYAQvBdwDnwMjBAoFHQRPBE0FhAOtA0AD+QJfAzEEOATSA+EEpgMfAxYEyANOA4gDywNMBCoEdwOkBBsFFwWSBigF4AOuBJMEeAQ4BLUElgRMBEIE0gN4BOsEAQQMBKEEXwP5Am8CFAPSA0YCAAMzA8MCRAN1AmgCzwN1BBQDVQMjBOIC7wJwA+UCngKfAzEEnANcA9sCpQJ3A1UDjgPzAqsCJwRiA9UDVwKHAIIB1QDzACQCgQPBA58DcwMIBHUExwUfBkkEsgTGBHEEFgTCBD4E8wLlAs0CcwMHAx0CRgI1At0BLgJkAsACaQNpA2ECZgGbAq0DMwOcA+ADiwOCBBsFBQRVAzoD1AL2ApkDjgM0BEIEUwSYBc4FbwXCBCsFMQQBBAgEfQMgBDYDhgQBBJUD5AQ+BDsE4wNTBKEEWgReBTYF1QPAApACQAPZA+oDRQQxBH0DPgR3A00C0gNJBDsETwQYAzsEOATBA5AEKwJXAosDbAOEAxYE3gQhBV0EuQLeAnICGgL/AWQC2AIHAycEBQSkBD4ERwO0A7YCRANLA9EC2QM4BGcE9ANnBGoEFgTNBLoDnAPjA7kC5QLsAgoDcwNTBCUFpgOLAxkEwAKVA6EE6wTEBcQFNAZXBdcErgTJBBIG/AREA3wC3QFoAsMChgJAA1wDkgMUA2ECOAICAo0CxQH2An0DJwLKArkCygJzAzMDzQLCARQAhABPAVwBCQLZA18DbQHaASEC8QGZAVIBCQIuAtwAkQD/AUkCGQHfAOABewGi/6j/xwCMASsCgwLdAeQB0QKbAooCwwJGAiMB2ABHAzwFowPzAq8CSQITAnQBpQJeArsB+AFoAhED4AFSAT8CjQJgAa4BGQH3ANoBNAEtAVEA+gC2AGwAOgGsAAEBhQHWAQ4B+AFyAqECGAOFAZ4C9wNMBIQDXwOVAwwCrgFQApcCdQI2AwgEUQO2ApcClAIiA9UDbAOUAlwDowPxA0UEjAQPBAADaQNaArwCQAMnAkYCBwN9A+ICIgMZBOQEowPHAsEDLQQ4BFMEcQQlBfkEegOaBHgEQgQKBY4DOwSdBM0CFANuBEAFIQUIBCsFyQSwA+0D1QOyBPEDjgOfA8UDfQNFBD4EGwNFBDsEtQQDBRQFVAXNBKQEMQSJBAgGSwZzBRAFvASTBEMFywVoBdcEZATQBNcEiQTQBBQFGwU6Bi0GKwWbBfcD9wNPBLkCvgMgBJkDnANmA0IEdwM4AlAC8wJwA+gCegNzA/QD0wQPBAADlwLNAvUBEwKOAwgEEgS0A5QCXgL2AmkD+QJwA/IEEgQPBBIEEwKXAmkDSwNmA0cDFAOUAjMDBAM9A/EDgQOmA04DEQPNAqkDFwVvBSAERAOuBH8EggR4BGYDGAN9A/MC7AIjBAwETwRnBOQE6wQdBPkC+QI6A54C7wL5AkoFCgViA9IDOAI9AwgEXwPxAz0DOgPUAmkDHQTgA3MDygIlA5QCzQK0A5wDMAMRA0kC8QGhAvsBDAIzA+cBwgE1AvgBngIMAkMCSQIWAlMClAJhAi4C7gGqAeoBMgJQAnEBuAEkApkBqQDl/5YBTQLRADoBqwLaARIB4AGCAdgAkgE3AToBWgIuArYCbwKvAooC+gCIAU0CRgLxAbQBuAFIATUC8wKxAWECEwLqATIC3AAkAgADAAPSAxYE1AI+AYoAwgGnAYAAnwAlANEACwFUADQBggE+ATMDEgQHA8cCJQMHA2kDywPKAuUCxwJXAnoDNgOSA7wEEgScA+gCLAOOA0wELAPFAQQDoQL2AnsBxwAMAloCpwEtAbQBiAFLAToBjAF+AXUC1ALUAlEDawLaAc8BfwIAA1MCfAK7Ad8A/QAOAV4CrwInAloC3QH/AckBigJzA1UDJwTVA/cDQwIEAYYCUwJ8Au4BYAESARIBXgKuAbkC/QJyAo0CtAFoAt0BqgG8AjoDLAMfAw4BYgAbAxQDNgMFBLcDJwL3AFUBpQBPAeoBFgL4AXEBTQJSAdUANAFDAAsBvgFFAZIBcQFbAJgAWQH6AE0AswB2AGwAOQA8AE8B0QBBAeYAnwBNAjUCxQECAgwCIgPeAiQCpwHOAFkBXAE4ArIClgE3ARkB+AHgAU0A6QDRAGz/bAApATcB5gA8AGMByQFPAYIB7gHPATABywCRAID/Gv+HAN8ApQDf/8f/xP+R/0AAWAAhAIP/Gv81/5j/g/88APcAEgF3AQ0A3/9lAH0AQQEpAb4BNwH9AAsBpwFTAhAA2//R/0P/5f9o/0oAnwD2/9j/DQADALv+mP9AAKj/Bv+4/i//1/71/p7/jP6T/of/tv8VAQoAcv8sAA3/gP/z/2gA8ABRAOX/Df8G/7X+u/4o/7j+E//J/oz+JP+k/rj+yv9K/+7+Pv7f/Yz+j/7h/r3/DQA2AMcAZQD6/wn/Yf+AAJ8AtgAhAEUBGQGUAO0Ayv9oALAAYgBzAJ8AoAGbAG8AKQG6AE0AQACHANH/kf9s/3L/pf+1/l3+0P54/jT+Bv+H/xQApQC5/yv/x/9o/7X+6/6g/t//ZQBv/zIAFACOAPAA5gAjAUMAqP+6AEgBXgBlAAMAr/9Q/03/VP9KAH0ANf+5/9f+Cf+9/73/cv81/1wBNAHOAGoBlACpAG8AhADtAHYALQEWAtEADQBKAKz/AAA2ABQAHgA8AL3/+v8BASYBDAInAloCGgJmAX0ANwH4AU8B+gDzAIIBKQHRAF7/WAB9APb/UQCR/+z/MgDfACgAyv99AEcADQC2/1f/If9U/z//h/+UAG8Azv+UAFUB9wC6AKkAVACN/0AAkf///mwAx/9y/8EASwFRAHn/Tf/R/woAigDYAMkB1gFAAFQAzv+R/6//JP+U/8r/DQDK/1L+TP6k/r39Xf5b/4L+O/7M/nv+C/7B/eP9Z/5z/YH9j/4m/u7+O/4N/XH+//5b//792f3u/sz+VP+W/mP+eP5+/sj9O/wT/MP8bvzs/H7+4/3E/TP9+fwj/kX+i/0L/jX/8P0s/X39IP6z/UX+0P7O/Yf9G/1M/rD97/x//EL8bP02/cH9Df1k/O773/pw+wv72/oy+hz5nPiE+ND5zPme+kj74fnF+z/8MPuj+3b6j/sR/Rr8tfzo/Fr8Uf02/Zz94fyg+9P7+fw+/ur9jv0K/WX9hP1l/dv8cvyU/JD8sP0q/n39ifz2/NX96Pxu/EL83fss/b39q/yr/Bj9Tv33/Uj+oP5u/tL9nf7T/oX+CP6X/OX8RP25/Af99P2O/fL8R/1p/RH9a/yy/MD82/xH/Ur9YP6H/6D+cf5o/zn/wv6d/uH+KP+W/kL+Cf9NAPz+xP0+/sH93P3+/ab94fwI/uv+hf5P/n7+3f61/lf/xP2Y/dP+0v3Z/RL+1PzQ/If91f0j/mP+u/5F/tz9C/6m/cT9Of9W/sv9cf6p/e39SP7Z/fD91/wd/If9hf7I/bf9NP4+/u39R/07/hL+3P1S/k/+kf8a/2L99vwW/q7+ov2a/vr9yvzl/OD7Nfye/BH93P0S/sv9B/2x+xj7qfoy+sD6Wfvb+j77ZPyt+0j7lvtd/Hz86vu3+5n74/uG/DP9hvwU/Qj+bvwi/UX+uv1x/hz+Jf2W/mP+Vf0D/ST8N/vs+rT7SPu5+mX6mPqd+dz4avmJ+cb5A/pD+uv5T/mP+eT5BvpV+8r6RfmH+sr6Q/pS+9H6ovod/Bb8E/zI+/H7hvx0+5j6wvko+qD72fuB+z77mPpX+k775/uq+6H8//tt+1X9XPvl+i78rPoL+1n7vvtu/NP7QPqa+ZT6ufoU+hf6zvp5+oP6MPuW+w/8FP1y/Gj6RvrC+YD6z/v/+8X7kvvZ+3f73fsa/K37//se/WL9i/3A/MD8fPxT/OX87vum/Tv+Df1f/UD9Nv3D/Cv8ff14/AL8Df0T/Pj7rftn/AL88fv2/HD70PxE/Tv8Vf2Q/Jf8q/z4+2n9cf5W/kT9hvzf/S3+UPxO+w/84fwl/Xb9Ef0H/Rj9qPxf/Yv99/1l/Ur9q/6z/Yb8KfsC/Mr83fuh/DP9Pf25/M79P/8+/u39Pv69/Xr9jP7M/iD+nP3A/O/84fxi/Ur9C/4x/jn9Rf40/v79dv0H/af+6/4g/v/+T/63/QH+Cv12/V3+sP17/mz/k/6a/o/+/P5y//D/fP8T/+v+6v1b/5r+jP5Q/9T8Sfzj+077Bfym+8L7sfvP+/n8LP02/Yv9rf16/Y38ePzy/Br8nvwe/an9CP5V/YT9zfzv/Bb+v/6a/t/9Fv4m/mr+sf7j/fz8YP7i/y0BSwFl/3H+n/1p/d78A/25/Br8Wvwz/Yf9hP2L/ab9nf5b/ZX9lf0l/Vb+5v3O/dT8AP1n/uP9lv4r/9D+0/6H/53+KP1F/jv+wv4v//79ff0N/R79Nv07/Ib81/zU/B799vx2/dn91f1C/lL+7/yN/L39AP2a/Bb+Sv2e/Gn9AP3K/OH8A/2E/U793vzt/YH9i/sx/N78Bf4F/p/9wf37+x79O/78/Cf8Qfug+2T8XfyX/KH8ff2J/hn+Ev74/t3+Gv/l/y//pP7t/S/9Vf0A/cD8Hv1s/QH+if5s/yH/C/76/ZH9Fv4I/nT+e/6L/Yf9UPxQ/L390v2Q/Ib8c/0o/dv8TPwr/Mb8GvxV+4b8svxL+339wv6B/SX9Wvxl/a39P/xw/YX+0v0z/Zz90PyJ/NL9jv0g/mz/Tf/8/nT+TP4G/9P+Uv5N/zL/If9l/2j/kQCb/2X/8v50/u/8svwG/4f9if7X/l3+fP9C/gj+/v2z/Wf+xP0i/Qr9yvyY/Rj9zfxy/A39q/w7/Bb+WP0K/cv9aP9zAEb/u/71/qX/DQBU/17/r//r/rX+//6x/nj+e/5C/tr+D/4v/br9cP2m/c79Ev4T/yb+/v3n/rX+5P7G/nD9ofyB/fr99f4oAK7+9/0v//j+HP4+/gn/E//q/Tf+xv4Z/mn9+fyL/Uj+NP75/O/8/Pze/IH9dv1s/cr8tfzo/AD9sP3+/UT9+fwt/t/9vf0q/qT+kf+R/xAAEAAv/9//b//y/rn/+P41/03/kf8AAID/gP+b//D/WAAwAXYAEACzAKj/UP/K/6L/jgDiACUAZQC5/2IAAwA5/3YA5f8IAXEBHv+5/6UAhwA0AUcAQABIARoC2QPAAnQB+wELAaIACgAe/zkArAAbAHkARQF0AToBigDH/1QAJQD8/kMA6QBbANwAUQD9/1sA6QASARwBVQHBACkBPgGlACYBYgDR/1gApQC2AJv/xP9LARIBdgDVAJ4C3gIaAtsCqgGKAoMCuAHYAmMBFQHnATwClAL7AT4BHAGwAKz/ov8lABcACwGYADIAqP+W/goA0QB0AUgBvQDHAGoBewEtAQ4BLwA6AWoB2ABDAPP/r/98/9T/2/+gAd8A6f/FAe0AbwDLADYABgBiACEAvf8LAVIBsAAIAcwBRQHVADQBsQFBAXYA6QA4Ao0CqwKSAYD/QAAhAtMBfQApAUEBuAEtAen/vf8sAKcBjgAk/yT/GwDl/2X/8wDxAasCgwLUAhQDjQLaARMClgHJAasCdAF1ArkCEAJNAt4CtgKbAuICjQIOAwcDJQN9AzMDwwKUAtgCDgPHAkADfQOEA+gE/gOXAkcDDwRAA+QBwAIkAqMBVwI4At4CDgPlAjoD7ALFAZ4CZAKlAtUD/gNFBJkDAQSVA+UCJAJeAnsEMQRzA8UDDwR3AywDcwN5AsUDlgSLA9UDgQP9AhkESgV9BVoEzwM7BNkDWAPjA/ED+wNdBGYDowNfA9wD9AMyAnICGAMUA4oCVwKXAqUCWQFZAY0CIQJaAo0CDgPuAe4BNQJvAnsEVwIVAXICngLPAaABnAO3A0sDDwRrAiIDRwPnAcUDiAOUAgAD4AOfA1oCCgOOAxsDYgNYAxED8QPqA54CWgLHAgQDtANRAzADxQP7A0kE0gP0A0AD0wHaAXICbQF0AREDBwOGAiwDXAP2Ah0E0gPbAicEAQZdBKMD+QS1BFcFRAP+AwoFGAO8Ak0CgQNYA0QDZwRgBGoEZAQdBOAD4wNAA2QCrwIRA6ECaQM7BEQDOgNmA3EEfwSLA4gDkgOkBHsElwKGAsED2wI6A1YEugPiAk4D6gMOA5QCqAJ9A2AEwwITAtUDCgXeBCgFLwW8BHUEtQSHBcQF3QYkB6UHlwf/BpoHswU2BdkGjwZIBikGYwZeB9QHsQZcBiMG6QUEBvkEpwSyBOgELQS+A8sFVQaIBjwHQQZjBs8GUAedBgsGjAY3BgoFVgSyBPUEBAYNBSAETATtA3EEsgSnBL8EUwSWBAMFMQRnBDsEIARPBGwD8gRbBckEagbJBucGagbHBX8EXQTABU0F4AanBssF8wVvBToG2QajBpkGbQYVBlcF0AQfBjQG0wbdBrEGiAZPBugHCAZtBrQGCAb/BlcFBAZjBi0GBAbfBSYGSgXVBYMF/AS8BOEEewbOBX4GjQeqBtUFAwXXBKkDNgNTBEAF5AT3BX0FjARNBQEE7AWBBg0FUgaPBjoGAQYvBRcFnQaZBpkGcQZDBToGJQVNBX0F0gOuBHMDxQPwBbMFXQSdBPAFIwQjBOYFxQa+BmAGnQY0BNIDZAS8BCgFvARJBGwDTwS4BLoFRAZyB5oH3AXsBSYGdQckB3EGSwZ+BvsGbQZcBjYFywWBBlIGEAf6BTcGuAajBgIHXAagBlcHLwgUCKsHaQiYCEsIOAf1BrwHigd/B5wIOghyB9cHrQYmBo8GdwbgBt4HGAgvCI4ITgjsB/YHpgiLCGIIMwj2B5gIKQixBgkH8wevB3MIJwlECPEGoAZGB+8HeQe7Bv8GlAf2B5oHVQimCAwH7gYGBzAGgQYkB3wHAAgsCH8HLAiYCD8HfAdeB40H0QeGB04Itgd8B0QIHwggCfIJugjICNUINgjVCCkI/QcZCT0IlAeBCB8IhgduB/UG3gcjCdwIDggKCKkI4AhbCFgITAnVCOIHwwckB2EHeQcTB/YHGwgfCLAIuQeBBh0H5QcQBycHDAfdBlcH8QaIBscHHQmjCAUJZwnjCOgH4AhkCZ8IwglJCbAIvAkDCj4J9whnCaYIFAgDCJUI/gjlB3IHsQabBd8F6QXPBhYHaAWOBcIGAgfFBuQGPgaFBn0IRAgCB1AHmgcACGcJbgnECEcINQdbCDQJzwg+Ca0IgwdECHEJagn3CIMHAwhACIoHRAhLCBQI9gczCOUHJwcsCJAHJgYJB9MG+AYWBwsGLgdaB7EGjAZKBUEGmgeXBxgILwjUB7kHlAfXB18IpghLCBAHaAdACAYHeQfXB0EGVQb4BtkGvQV0BvEGTQfVCIMHyQYyB8MHxwdTB7EGMAZEBgEGDQV5BRIGugWHBWoEugUIBgYFnQThBGwFggTNBIoFrAU2BX8EAwW/BG4EeQX/BLgEdgWUBakF9wXLBQ4GagZDBfkEAwUSBvMF3gQpBqwF0wShBJMEKgR9A/wEsgRHA2YDNgMfA+AD5gMZBA8EqAKwA5ME8gTkBOMD5QInAnIClAIiA1ACLgJcAzYDOgOeAvUBiAHkARsDvAIpA2QCcgKmA6cByQHkARoCDARHA9gCaALqAVEDmQOOA3cD6ALFAc4AsQFPAQsBGQG6ABUBagE/AgIC8QGNAm8C+wH1AfgBRQGpAEAAbwBqAW0BkgHVA8sDEQPuAb0A2gEIAR8BZgEtAaoBowGFARIB1gGxAbsByQHmAAYAr/8ZAWYBIQIwAdv/PgGjAeoBCwFlAJgAZQDLACYBugDzAFkBGwDf//P/+v+z/2f+P/9h/yv/GwANAEcAJP/u/hL+bP3Q/mP+EP/s/87/bAAv/+H++v8g/hz++P7X/koAzv/f/00Aq/5q/sT/cwCz/3j+Fv4j/jT+vf8DADYAMgCUAEMAp/5Q/wYA3AClAP3/gACEAKX/5/4N/wYAaP8//5H/m/95/17/1QDLAMf/jf9NAOn/9v95/z7+9/1q/gAAfP8v/+7+Vv6T/nj+/v3V/TH+jP7b/9//fv5P/iT/nv9X/6f+Bv9v/1n+O/70/Wz9yP3I/ff9vf2p/dX9WP16/ab9fv4o/1b+mP0+/v/+YP5C/m7+HP7Q/D39D/7s/D7+Ev6e/Dn9bP1W/lL+0/5M/tv85v2u/gb/A/+u/nD9Qv7h/hL+cP3K/AX+5P7V/eX6Z/ylAHb/Mfxw+7X+YAH1/lL7iPv8/of/1/w4/GX/+gCz/wv+c/3l/9T/if7R/7n/QAADADv+6f/zAEr/JP/l/zwAmAADABP/Wf67/vb/2f2I+/79//4o/Yv9iPux+1v9M/tH/Vn+Sv2u/hD6cvdC/kr/4vrD97P11/nR/4n8NPSg9s38jAGW+03oS/boCRr/P+2l7bP9hgJ16jfG5fLpIxH7GtQ84ysMQAhf7sfr3vLKAvT7g/WXAvr4l/Km/TEEwwdA+tzrXfw3FfUBS+c/9xIG1QjF+1zsCPkZCXkCDvEn9Jr+9v9zAOz31vFj/igA3PPZ+P79K/rH+i/4LPjH//AATvv4+Yf/pwGW/joBgQNPAcn+bv5qBPYHDQXnAeL/yQH3BekFq/5I/q0GEgQ0/jYAMQS4BN/9ZPTE+OMDxwBC+abzK/Ke+vX5+/P++F/zTunX8l38WPiO8NTtl/Kg9tTyKOsK8Gf8E/dk7ZDvaPUy/7/+qPKw7rPzpvsjAU79F/Vz+Df7Mfdi/VYEpv2c9o/73QGqAbH7tfmAANwDgfs38QL8HwvLALDuefDABR0H3fbT9pf8zfwvAJYBovXW9usEagTy+dr0Ef0VBs0Ev/mD8gn6EgbHB377mfbC/pIDQAP2AloCufz6/1sIMQSpAJYBmwK/BFgDn/0J/88IPgbh+db7xwVNBzsEePxy8gP4/QXNAo74uPRg9EX+ggR890ntHPSfAGP+3+vx6Yn87v4/8jzrR+6J/IoAsfGc6erxCfyA+lPyO/ST+WT3mPVJ9y35ofzcAPD41+8d/HgE8/89/fv2ufJ9/WIKdgA79Cz4/wENBW/6Xvq4BNgCBvpK9bz8CgUtAQ39nfl/+ZQAIwTRAhAAlPw5+Dv+owiDB0cAs/pIAegJgQaoAlEFHQemAzABGAZsCvwEQQHVA0wEzQRcA9cEbAi0Ab39BwP4BgoFkf8P/Hv+qgZiA871vPfzBfcI8vf660r6cwizAI7wIest+wQGtPZj7IbyBvop+5/z1O1K8LD4ovqW7/XsZvGt88T6Wfl78fnyjPTE9SD5E/eL9pn7cvoJ9bj5y/3+/Vb+Iv09/dr5vPnLAPwEWP0G9fb6HQTgA3L8B/shAI4Azfx8/F4ArAAD/ZP5WvzPAVf/tflS/mQH4AOU97f4XgpuEVoExfaF+40MbRBUBfj+oAFfCAoKJgYvBX8HHQd8AgoDMgX/BuoIbQYTAsn+xQFlBUoF2wKr/GH3kvtiA/r/pfeB9nr4Fvcx9zf2NfLh9zX3H+lU6/X0Z/lm9jzmJeZm9hH4M+5k6IDrZfVM98zs0eZm8+H+TfqR9UTuGOyb+n0FTgMJ9zbrjvOYCoUT+v1M6sv43hFpEkD4lOvWAYsVXgpo8Ljq8QHwFNYLmfHP6YL+Rg+ZCwH7g/A++UYHfQjl/Cf3dgDECMUDyPg3+/AIaQ0SBMv4sfn1CWUUiwij+zT+LAjkDgwOmQZPBJYJbQsEC4YHCAZ3C4cKHwNiABMClAeaCW8AxfYS+XUCNASm/Wb2fvEv8xX7q/kR80z0d+716ufxvO+S7q3xq+2C6nzobecj8ab9B/Mr3pDg4O6l+rv78edr47z52//Z8QHqYfUrCmIK5u7I3xL5whiWE1X2dOfB+EYUCRFE+zX3yAPNDCkIR/1d/IEIsQ4SBJP5SPtdBCgKigfwAFX4k/lyBxwO6ATy+bf7YwYICWcEBAPwBUIJbAWlAEwEAQ7KD68HuQKGBFULjg9/DmwK1gZuB7gJOg1nDvoKtgW3A3cG7AfxBjwFJAIY+774Gv8EARr/uPmC9In0cPbX99fyHfL59NrvfO3E6xDrr/Us84/niOkE52PsK/qJ9AbrR+lE6Tz1KwID+tvwM/Ph9LH7LQQjARz7TPkG+lwDOAwjBFD8JwIqCV0MoQn9AFkGSBMnDu4Bjf/PCM4SfQ8bBaT+IQB9CO4OzAuCAc79TQUkDGwK6gNJAikIiAgYA7kC2wddDCwIvAKhBCgKvg1kDMkJ7wcICW4MJQ/6D2QM7glZC9cO3A2VCCAJiQ7mDzAG5f/5B98NsgcG/zv8LABzAHX8Jv4p+0j03fQP9D70+vo09DXo5Oze7XruA/WY7hTpg+tk6iftn/M88F7rbezP7tXwrvSn9i73E/zs95LuFvTPA4cPbgk79GTtVQOaHeoXRvqD7eABPx4HGsT9t/bqDYEf6hAU+DP41xPOKEYUbvKC9FUSXCdEF2b2I/RNDM4c1xOs/w/+iQz8E5wLmQECBxMR1hD7BqD+ywUeFN8XvAys/1UDlBGlGVES+gXWBj4OKBSUEcIJrwoUD4UO6wmoB5MJOg2wDXcGV//i//sBlAW5B+f72/Df8xH7VP83+w7xWuoo8G32dPTR9b/vs+Zl6yzzn/P77Ajn9+u18m7ydepj53v0hP3A/NP2K+0n8vr/wwJtAccAePyX/IIE8QsSEHcIL/11AqkSBxqkDg0ATwQbF7ccKAqJ+RgG8R/PH5AHLvcFBCodgh15B9j6yQYGFAwRlAXLACAJrRBqCysChgRLDbcQaQ2iBScEpg0WE1oRBAtXBVsKlRIZEzgOLwqhDCkSYhInDrELrRDGE0APvgilB3QOwRIUDUgBm/9ZCSINMgWp+iT6s/8K/fj2G/gB+Sf5gfbM7MzshPj59+LoNulb7nnr4fRb8DTlde/G7anpS/Gc7m/wd/GC6hzvg/eH/bP6R/MF9Jb5vARgBl38P/xZAYMF7AeIBvcIzgojBkkCCAY/EXQVXAuMAbQD4g9IFfMP/giBCOkPAQ5yB6EJ6w7kE1ENnv/wABgQkRmNEWIDx/+DCiEUrxFkCQoFFApODbsLggn1C2kS6Q/FBsUG7A/MFXQVHg0IBhwLKBRjGLMS8gnVCLYMDhBxDucLNgp5B90G2gRoAqUFSwYjBJb+qfPZ+LAD4AFX/F3v0esv+GT3kPdv+nDueOrr6hvz6vtm6XLozvXz7bPrc+ky61L7g/dY5mPisu1yAjYIBfRO5PDzTwYhAOn6CP71AZ4HvgFX+ocF4ROJE10Jyf4TAqER7xaDD0kM7g6HDVsKVwqKFPwdORRKBWgAMAtBHT4d+Q4WAhr/9w12GcESewl+BoUGtAsVEJAMXQzEDQELsgffBZILkBbMGHIM7v6IAzUUdBqmEkIHNgWBDV4UeRQ8DxILiAtoDDwMBQzfDeoQUwyyAtT/hwU0DiEMHwHI+Nz4CwGOAMz7r/rR9cHzI/T98Gnz2vnb8DLmwurg7prylPAA5IPjkOp17w/qhuBV6anw1/Jq7Hficu3I8//02fgd8gvxHPRq+1UBLwA6Afv7DQDPBiAE6QX5BLwJzxCVDdUF2/8xDPoZBxcjCYj7KAWQFs4ZWw9fA+4JARCBBn8HPBH/Fd8P6/m+9osNwhoZE6j/+fTn/lARahVeB/D/AwUnDMgN5QdLCy8U7xEuB2oB4gpEF8MWvAyJBBcFgwzOFEYW7Ax8B5II7AqPEKAQ9gxrB0sDMwN+Bt8KtgfzAqr7rfba/goDzgDf/UDzHO8Y84n5ovol8BvrPuf36Wzzv+8s6RHpGuju58PtGu2Y6U/qhuiH6+zwUe706d/wOvMt73j3p/bd8ZX9KP3j9oT9/f89A9sH3AOOA8EIvwmzCgsQahADCOkFuwupFP8Yvg0lAysHwRJsFwEQlwe8CS8SVwoLAUANeRn6F+gEJfXWBiod1hpbCDf52P/bESwXUwwiA0sIBREUD9AEYgVOFRUa8gyuAUsGzBViHJEUtAhSBjsOAxf6F+wPwAqaDJUNUAxZDh4PKwy0CGkDbwLWBqwKdgqqAXv5g/okAvMHRQEv+AfzFPMH+/T7OvNn7wfuHe3f8y/w4Oyn8Tvqu+eg7BTrUesa8KPuf+rl7STt1+1I+V/z1+r98n72+PtjAdn4rPBe+vgGuQf7Ayz4MvozED4TPwd9/ez/DBEqGBkOcf4TAvQXsR26D4n+JP9FE1QciRHCATcBjhIwFfkHSQI6C7sYCRGe/DP7/w78HUQVh/8A+P4IpBuGFlQFBv89CC0VUxHVBewHOxP0F5YO2gTcCIUVKhtsEpYGHgV7EHIZSBVBC0IEfwfuEPwT+wtdBPwEzAaWBlMEDgPcBbUEYv3M+bz5Tf8IBCT6Yu7i7Rn5jv2D9Zrv1uxl6xTw//Qj8c3tBerm5ufsPvS37jDneesr7drvPPKB6d/rQ/VL9l33MfQM8gH5dwHl/wf4rf16A1MCvATdAQUEAgxbCtYG3wo1EfQN9wj2DJUSrxn7EtQCGgeAFB0bTBZNCrkCowhCGB4cJBQTAqv8hBJgHRgVxQYhAFoMmBcJEeYFigWaDo8VHBDaBAEErRKhG+URVQMRA50T+B0gFu8HHQf0EmAYnBJsClcMNxPVEnMNzQn5DLwTCxBcBnMF7AdhDF8NZwTK+vT7aAUrB4gBzPt99bH27v7l/Bb3Dfpb9dTtP/cl+KzrSvAs81/u3e+R62LuY/ZY7j7sx/AU8K70zPEZ77H2k/nY9brz8vm3/Wb7Kfv+/YIEAAjeBHkC5AQJDHIRVQtvBbwJng9pErEQ1QrmCv4SgRUDD1sKnw3hE9sUYg0lCvYMsRB7EyEMVQh6EhQSZgbaBBgN8BRvFBcKZgF4CUwWNBh4EfcFqwSoEZMYWRBoB1kLJhUFFnANbAoyFMgaiBVJDKkItxB/GP8VFA8HC7IM+xDhEyMOIgguDLAN4wiSBi8I3gc2A1D/2P/V/aH8qQAW/uP4IPQU9Zr5xADkCUTzvd6W7AoDbQEU6YHkuOwG9Qn3KfGB58jkmfaH+rnoS+cF8g3wYPGO+DT0ovAn8jH5oQJH/Yv21vs3BikGSP4UALcDMQzMECUICwauCYUOBhRIE3oNPQ19DykLsQsCFvgYKA/uCRYMBQ48ERQSvA46DYkMSgqICJ8KuxDyEZsKWgLVBeYSZRToCaoGYAu3DTUMXAssDX8Oxg7dDqMNZAzPEHsTNxB3DfIMYxCtEnQThxIUDX8MExGQEd8PUAx/CTQLcg8PDi0G2gSYCPsGvQC5/Pr/DAflAjX1J/Rw/e39HvgD9e/ybPCM75T1bvcB7I7r0u4I6tnx3/V07Ibopei28Ev2t+4d7fvsT+//+cT6PPJJ8uz6Gf65/8UDMAESAQEEtgVdDGoOfgZgCYEVHBUpEqEJuwY/FhkdFRXuCb0FwAwVGmQblwx9A+QLchmLF1oHLAMsDfYWPhV9A6f+3wq+FRoWqgan/pcHpBNQFqAL3gTmCOERIhV+C1YJTBHFFd0TxQsWDLEV/hq3FQ8O2wyjECMYxxlCE5oMXw0FE3YUqxHACnEGwAqYCmkINQdyAisF4AiyAn/5rPqABfsGefpJ79rv3vxRBff4EOtJ6mbze/5T8qfnZPIm8YXsmu3G7evvgeya7czsbecv8HXybfFZ9HTxkPQK+DH51fog+Qj+VQPJBPYCoPsh/80JnhTsET39kvYxCegg1iLZCwn6oQQ0HUsktRH4/tcEIBgLH2MQJf0RA2kX9xy2DET2xvkUFG0f3A2n9kTzuAbIGhAU3/9q+Y4DNxMsEnMDdv+xCR0RRA06BlkGtg/hFhESLgd7BmQROBtVF6EJjgUyD4EXpRSaDBAHMQkUDz4Q0Qo6A7IEtgqOCK4BFvwV+9EAKQaz/Tru2/DI/cD8HvPL7v3y+/OW8Znxkuwv60/v6O0G6xPoLu0a8uzoJene6uLruPR96+7ie+wn+RL+yvWX7Rnvlf1fCDICdv0v//EBaQhLC68H2QZODVUVxBIhCkwEdgr7Gj0cqhBbBcEA/QxYHGsbxQsAABMCPBGAHNMOL/2C/iYLRhakDrL8OPyFCakUfQ+D/Lf4vQoDGagRcQEe/UkJrxmBF+QG3ANsDy0a8xmDDJIGMxKEHFIa1hB7C/IR7BkuFpQMZQqGEfEVBREeCn0ItQk9DeIMIQLV/bYCGwX7Aw3/efoc+bf9Yf/I9rHv1fCH+AH7A/CD6KbuTPRs89XrWOY+6tHreun35iXrWew34tHoE/KJ8h7wa+MW6Nn76AQB+1HrB+7c/ToNbwrI+wn8gQMoCr4NYAlTB1cPcRNYDfIJgAqjEMEXthTVDcQKqQh6CCQR7RdyEQgEi/1WBJARPxuTCUjxi/twCwsT6w7r9GbzSgqaE+wKpfpX/NMLqxa1Duz8AwAzEOsbdBWVA+QE8hbrIKQWpwkbDYYWcxzLF30N7Q3tElwVNhLjDbkM3Qu9D1QPjgj6BSUFhAjdC5EAh/gNADoDEP8G+iD0lvbO/Sf5/O/r7zv05vWY64blNvM89YfreeZF4AHnuPHK6Jrg/+Wn6gvn5ePm6dzu0+xl6w7nruoi+3v+Tvgf7obq6f+UEXwMLwD4+Wr+mgyOF3AN8QMiDSEU7xFbCEcDqRKgIuYc9QZ6+FMEGxzfIWsMxPhV/VULQA//Bh8GIAnN/FH12/r5CW4YRwMr6772agv4FYULxPgZ/qcTUBZDBfMAJw6EHGEbiAYNAOQTESQ4IEAPXgfAEdgecB9VFQ4QvhDKEQwR5RHFFdEP8AVtBi4MQAq8AhYCaQPVAPj7mPjs+iX9Hv1b+IHxdvDY9cb3hfQV8fnoK+uu7z3uIfKw5m3dr+hZ8QXyPeQO2uDk3fZ6/WflCNaS7Kb7lvTh6svmQPM4B/MFbPOb65T6aRLRGVMJxfYu/MENHxr8G0MP4AZwCz0S+BPuEysWUBZBFXwMaQPGCR4U+hTPCKL6lPoHAz4Gtv+w+OYDUhC9+lLi2ezcCDsgrw/D43XeoQKXI9AgGwWl8Mj7CxjXGwcSZw6SEDIZyhnIENsRYx1+IgkgIxjDDMgNTBvUI3cfrRIwBrEGfxZjHZQREgZ3AbYCZQqhByb+DPwD/eP9Lvwk99f0zPk1+l30s/Nq8Yfw+vhD9bHs4u3E6x/sZvFe8A7nBOID61fwnOku6BfmqOjg7vvnYuYO7Njwn/A46irqbvS4BOEEPPCh6hX2PAq1HfMPI/F36VgIOjM8NecGU+DI850qmUU9Jo7uQ+EDDxQ4Ryv6/ffmg/90H/kbDvt+59n2bg4aFP/+2ekz6dX19BCNGfH7Z+C05EEGRiizHLHxj+fzCkkt0CVcA6z6uxhNMigmQAiBA5YdLjT7KaoQwglQFtAiGSCJFpUSFw/JCb0KfRK+Fe8MNgNiAykGZQV9AOf7Pv7CAST8O+8K7hz+XgXU95bs9O7b8rz0K/W08avtI+997tLpFu1w8bDpTOVS7NrqlueD6+Ltxefy4I3oD++b8GT0WexY5OLtEgSME/wEoe/o70cFlyUAKT8M//Yi/cQZvStgKiIcsQbUAp8NSx8uKk0eLwqB+4QAtRM9GmsM5vji8l7/NgqZATXt2uc++TwH/wHm8NXujv0tBEMA4/syBcYW+REq/mz/ohkmNgsxQg6/BDEdtjcjOYYgsRUJI5ErNCLbFjkcoiiWJ6IUQAOUB54UsxlAFMwG6vtV+Ej+ZwmPCy0BTPQi84b8fQOi/5bxte98/PD/Yvj37ijw//uIAfX5IfJM9B71YO+r77PwVu/37rLlkuKs4wzjbuWZ4gTkSeMs3A/WVtgy6M/zmu/O4YjiZfqwCH4BLveD8ucB1RxGIOwKFvSV+BcjUElVOKD7ZNaf+GhBmFbFGp/XG9f3Dc82aRwj3Z/XTQDtDV7/mOHW0LDkFftK+lvuaOgP75vwMfTPAWEHLwUO9sTzQBmuNCwkNgjnBsMl0ENgNgwO/QePLFhM9z+PEJL2ZhBAMNsyiR2P+xbv8ABPE7wR0f8c7CnpxfvECCQCZ/Sz6wT2aAqACiL42urY8OYFcBIhCvb3xO779rQGcg+EAzPxDPKx+aX3CO8K6erk9+Yn8nvnY876yoPPTtcu4OLZ+tQTz5jIBNCx2E/swvlQ7W/o5/HSA+MNLQbvB0sa2DKpNeoXVQEcDkEzWEyFPkoZq/4r/NcMnxy3GiUIgfH05DjjDumr6sXixNyI3SHh1t//2GjUztlq57H0bPq896nwDPIrAjkZ5zE/LTIUDxN/KoJI0keXKnAcJy+MTS1FSRYv/XoSajT/MVsKSegh6H4Bjg2s/8rt3+aJ6nzyePkM/E31H/Hj+wwM9hHmCI/+C/6HEgUqKCOBCEj50wTMGPgaDgiU9fX0YgBNB+v+xu2X3pPb4uGB3wbUUc1CyYDKY9BbyIO2irHcw83ez+nx1Q+6i8FA6dINnAvA8N32Vh3eNxgpaQg2Cgk3cmKiUXIU6O+MAQM1bkv+JrDuctEX4Yf/sgLc5L3FFsL70O7dKthpw9vA4NWq57PrQOlB7Nr0LfuFAVMOiiOpM4MtuhwmGjwtdkRKR+g0/B0KHMsr3Sd7E6kI8QtWE8gLd/NY4Tjov/mr/LPz8+ti7gD4lPqR+un/4AiiErYUGBLkEB4PIxDJGIoo6StHHCMLIgPqCywXCRH1/oHxPPDN8pvwaenl453go+I25pDlQOFs0tnNkNtb5sziGc7EvjfJI+IJ6FLVyse/yQLg/vhu9HviDuK66yv6aAq3CFkQnihYKVAWywOlAl8hFkGhNLkHmura754MdB0wA97etNW039nu4vAq3cLLVtEf4oLvxPNU64zl++45/QIH4Q7hExYT0RHmEpIVcR24IpEcCRHZDbkW9R1hIHsOkPQl/a4J+wHd+7r1y/jNB7wH//up/UMK/w7CC3gJSg9FHeIe1RI2DWgPohQTG4UalxECDCQHbP+oArELrQtNAln7fv5fA3sG6ARR/Rb8GAMAA8j74fnq9jv0dffs9U/xgu9i68vmlObU4xfcsNWk0c7Ukdy81jPGZLiSvPrUYOdP6pfbEdJm4hjzo/sx/pgNaDoXWP5Hnxyw+OgHsjn6UfA9DhA97pLsu/YF9PTfC8k+xp3WO+WK4XvJEbmhwmDdV/w0C3ANqBHIEtQRxRUTII4uOjv2N88prx6qFfgLZ/6q9tf8LgcgCcf/OulB0JjNMOL5/FwLKQad/rQG2RcHId4gGSLlKug0wTi6MBEh/xXrDg8OdBBIDgkH+vj47NjrqvEO9oL0ovqwCBwOgwx8B1gIjxVmHx4cyRPUDLgEJQOjAR74tvDo7QHvHO8j6iHcQdA3zvDSVN4849He1dyu2OLKNL9PvGrGD+Do+bgBNvDi4a/onPPtAMwTBDhTWvFZjj0hDK3uaQMaIx0tvyAwAwbmQdrt0mjH4b+CxG3TH+Rd9JTyG+R+3bjiO/wRGjwttTnPOLEsex3dEAcQ4RjJHQsVSAYi+9TtGd3P0MnJB8vA2U3r9PiuAQEB8wULE4kWnxcAHwArdT50SIU7DyUUHEwgIRkKCDr7wfPg9pT6Iu534mXhMeXf8CYBvQ9mFS4WeRk8HgkjcCSvIzElAClBKSQgwAx7+UDwluy27Zrt7ufr5aLmI+Ww5rTs5+z66xb0d/sk94vpnuMm7FXx/u5R5rbUO87ezBW8zb8C41Pyhu2Q6gTaVNSW71oW00XJZupUKCbpBVUIMCJuL5QeCQLw8Izq0eNa1PG80bEtwV3We+KD7ffzh/jVACwI8w+KHkMwZDkwO+042CtlF54HyvwM8jTsH+y66xDmLtRmwcfA5s2L5Ov57wLkBH0I9htuNEtFTk/6SU088S6PH9sU/REGD9gFk/m39s/z5+JB2j3kOvG9ACARSREtFT0kQCZVJDggSh50JNQoUSY9F8kEMfcD7mPs6O2J75LzmvKY8Orzo/GQ77X0hwCUDE0FPPDD44rmsurY4bTfFd2X1rLjmd8Zv5upLKI0ujTs2v7G9w7saenkBLYwx2L/fz1yiU2DG+D2lvtMCdsKTASr6OXHy7F/pvGqt7RqwaDVT+ztAyoYeCceMGUraSkVMcs4pkJKQjAxkRno94bW2sQevizD8M1Q1GXUWM1py/rZIPTdDiwfcCRvK082C0BjRYc/3SzTE88GNQ+TIN8c/O8oynTJvtVA5ojx4PZNBT8W1BnhGBMZcBydJ/czHTekL84jNBMpA1X2renT59vwA/iW/jgEdgBh+if8IQVqDl4PvQo2CkUOOggL+UPohdj41ZPbIeM+5zvgC9O50fXideoW4CLSBMYhxcPRI+JS7EzvN/F++/IOchmVJClH5V3IVgU89gIy1/7hHPmN/LTx1tgUwx7D7M//09bQ9tZI7BkOFiqxNk44zS2ZH5IakBaUEeETBxLxAw3wx9fSw77BY87o1hLYjOLp8LAAahU/HjwZjBOvFNAdOCpcLiEjbg59+DjqyuOA3NTWUtio3pbnwvGKBQIvyFHfRJMbh/rW8WERfDx+QLIozheCCcj28uVp2t7ZoeWt/ZUXCCV6JvsaKAVi+FwG1CCaL00t9R2YCqT5HO9S4ijUANVa40n3wQMD/x7wsOTc4Q7iDOhK9cz21uxn6pbixswBwUO7KbIDw/fcXeCC6lcCCBPXGL0ewD9JaY15lGczHwnMdL/t5B793/PQyXKkLqShwkPjWOb+3K7lC/71IptO2GJ3Tzgt2xTwCNAEvQW1/BXn39erybG6ybo3yUTadeNa6r36vBHsLZhEZT/rJUwW6hU5HFkdwguj7lDW/s310/zYINad1oLb++fCBsEmVjTvLZ4eUxu7LEo/7zwwIhb+4vIL++rzG+Yw2mDTwd9Q94gL2RqaJe4nsSKkHb4k5C8qKvYZ1wz0Az39sfZJ70jnGeVP6tnxjfxACjoN5ATM/sD8b//dAUgBmvlS5yDld+4a3rPNw9GDz63NDt8I6vPcz9XI6T7+xvkj+eL/3f4GD0gdSxCZFb01skEuLS3+Z9FdzBHfFvIH8+vbsNKw5Gb7+wZX/yvt5uklCHYw2TulLUoZ7AVFAeYDxvS549PiyewZ9PDu9uhf6ezt0/Yr/NT8aAXQE8olwy+pIYoK9/i69RwBwAUn9yzmyeVN8kb/cf5P8dnpBfJmBrAX4yHIJLYe9xe6HE0yDjjjHzoDfuxu5X3wqvb/8Zrt6O+P/k0PdRaCGMYYzhmwIQopPCgwH74SEAeG/Aj5+Pu1/Gr75fpd/AgBZASnBnIHaAUSBBYCyf4w+wv0Rern5+TsDO1t51LiDONL5ObhA+vG9P3tDOoG5ljXjdkV7F/46QCKCnET7Q2k/vIEXh4dL2MxqBu87yTeI+87+cLsCdmvz7LWsO7PBugEZvYh9Qv+EQ3EHFMlaB5ZEP0KRANq9jrx2u8f6ZDjwuJi5B/sW/gUAPn8EPcj/rYPYx2sIZkVlgFk/DYDYgVh+u7n/N2I4nXvsft4/Mz08fFf+KkD3A1yFocedCRBJ6Yk1hXqAT75lvbb8CPsd+yF9OD7lvsb+Hn18vw9DWoYdB9OJEgizhmpDW8F7wIc+03y3fHC9g3/MQQQ/474y/hk/OADQwpkCcoCL/3U92D0tfTc6dXc+uGY6x7r2ekI6s3qAeqk6l7wS+4h6ILlndsb2pLsyvJV8Rn5lPds8LLtseeZ9qopO1d7XEEz9PF+y8/Vwux57YnbAM2y29H/bhFcAafiC9C+328KACsINncxvSOKFCIDne+R4S7gYuTE5gfpE/Kv/JsAJ/n/5wLj4/Z/FlotXi1GG2cJ/wTPBuX/uu533Z/a/ukU/V4FSAGR9Z3s3O61/FQPAB/+JpAliySmK4kqkRRP9uneS9oZ6o/7RQFj/un6yPtf/RkEig9jFZoYByECKM4mnR2oB3fzN+wj7Mjz+PvdAXYF+QJYAFsAmQHCBGIKXQ5AD3AQZgse/Ubw6ueb4aHjfe558qPsPe6D8jrsD+qr8uv5ff0L9GvoL/CB8V3qqOh24Svr1/4L+S78QRDnEJAJogXeB5IVyxdNBd/zje2+83T7pvj5723k7ONG8Pz8gQP6/3n/KQiAD0IRKRDnCyMGsf7/9kb1F/Wj9vn0T+wX6+jtOvPM/iIDqQB+AWoGlA+BEr4IWwAP/j39u/uC+Qn17vEd8vfwMfTi+rP9T/4cBg0UqRz/GHUM6gaxBr8EwQPb/FX22fsP/l33RPip+uL6wP//BiEP2RJIE0oScg9TDK8HzAEAAPUBTQJhAhsAXfw8+iD8HwPFBjUHiAiWCdMLEAqTBGgAGvpO8+zwdfIl8/HxKPDm65HrZPKr9FHwC/GS9jrzU+3A6Hzj3u3R9Unlw95n6jrsI+9z6abc7fjfIQItCydDGQUWfiTtIW8AVN7b0ZHeH/H68LzgMtcx4B/urvlCBEQNBRawHMQcMxpkG94WKwWO8InlA+bN7S/w0+Xy25/fGO4P/tMGxwVRDVUfLSLWFZYJLgL7BhsFqe7B4cnnw/Ka9Nzp2uVN8okEHA42DaoLbRD8Fm4YpRTtDdUIGwMV+0X5vgGICE3/OO+E6c/z0gNgBvr/gwI9DTsWKxkcFegJI/7s+sT/rwK5/8P8Q/oe+vn8Pf1K/VEA2gT1CW4OehIXD3sEjf81/9T8aPe383TxmPD780j2xvKC7+bz7Pc/8tXrh+t86GDsu/aG7XTd1+CE5gvngfEv8IXn8vdnCQsQdhfnGGIX5RFpCM8DvALTAfD47+WC20zgfeu+7lrlYOVY8z7+ywgLEKcO5RHsFlwV7g5gCdwFV/qa78/sZucp50frOOg96cnvkPcTAucGIgjZC9EMKg6NDCUIwAVAABT63vJJ7UTs7O0Q8M/x3PPR+oIEnAhRClILGg+lFAYUNQ/7CGwAs/r7+0z8NvjB87PzRPiq++j83P2fAPoFZQoFDJwQ+REGDy8Newl9CNID4vqL9tn2oPZt9sj7HgBNAnUEFgTqASoEqgaiBS4HLQRM/Oj57PqF+Zr5Wvd49ITzMvDG9MX7sfTt7s3yIfBR8OLtkdwG1HzbY+dQ8lH14vJk8on0hf6ZCwkWzx+4Hc4P6AkrBzn/d/Mf4sXaOt9T5b3r8eyl6/Hs7PCD+p0E9Qv9EdwSUhWbFMoMwweN/OXtsef456LrSe336Y3ofO249G75tvoa/xMHfw5IE4MUyg8wBjL/4fc88D7svetH7mfvYu5G8H31Ovtn/pT/4wM/DB0RNxUCKDozORzb/JvrZuzE+Bb0huit8RP85P67AeT+t/0r/OP7gwzbGwgdVhgBDhQIpgMS+bb1HvXf8AX0D/ynAfUBY/sp+ND8dAHDAjkFJwznC5YEjAGm+2/17vEC7f/v0/ad+Vb+ewHs+jH0wfN79AL3Xfkn+a34VfjI7snist5C1jnSj9ja2Gzcc+l28BQDECjAOkk07xs2A2IFZg2DAqnuhORy6O3pyeLR3iHcFdg+2M3jfv5yFnkeoB14GyEZWBfgEPMFvvuM9A7zL/N78ejlx9dU10nZR99A8LP/tAsuEYAPdhRJGzsTOgOp+hb8av7b+hDyYusz6Sfj4N0h4zLtoPS0+/wJrR/dIpYVMg9UDykVvAyK+hb37PVb82Lw/Oot6vvnGerl940ClwcWCTgMuRbAGYwTjA4gCXEEzv9A/Zn7uPRC70TuGfQg+QX3q/fn/pAH4AuWCT4JtAu1CS8IhgehAoD6RvVI9Dv0bvJG8jrzA/MR+FT/KQOKAAD4yPOT9A363QHE/fL0//T2+mYBY/uX5drbeeG+30ngz+dL7mzusvKYFME9oz02F5r8JwdqGPgLSPQ28DX1HPSU7UDuze9/4CPTuuHTAQQVDxMcEzkcjR4pGtIS4Q46CD77avkEAykDrPAo4WPiS+kx6qXr8faIA/YHBQz4FaQdfxhmC0cIlAzGDLgGbADM/jH5Eu9/6p3sYu6c7mr0TQCkCcgNRxcgIswfWROGB/MF9AjRB9YGkgaMAYD6qva6+Gj6U/Qs89v8mgnYFFcUoQz7C7sLJguKCtcH4gUpAzIC3AMUABn5qfUe9an6e/4jAYoFXQSlBQEJhAgjBvYCiwOYBTADPAAx/pb72/pN+un6uv2V/d/9ZQDtAA4Bk/6C/qABYf9E+LH0OvZs8wH0Gvfs9dj6bwB89yLpBOlP7J/rpeg34lzpEvSU/44hvDeCJaMDf/TXByoTff2l65ryzv8i/THy4PGW78/fT9j96/cIZQ8dBwYHbBQ5GQ4NVQYnB5MEPP//ASEKLQan8f7hw+Xg7r7sxOv9908BeARJBz8MXg/qBs4A3QZ6DV0M2wdhB6kFnvwH8dPqR+tq7GrvovX9AJcRsw/X/M74+gUgE4YR1wd/CakStBXcDUwEM/vM7GrnbvJ0/pH90PTK9TkACQdzBWUAIQLkBtMJxA3REWEMRP05+Gz9AgJk/H/y4fTw/fEBDf+6/aD+gf2b/38HQg7dCxAFuAbgCwYKEAJu/Cv8q/7PAXQB8//X/M74wfh7+d32TPSc+DoB/QVuBKkA1fiS7rbw5vhg+fD17vR0+ab7tfRk7dHr3eyK7Wr0zfwk/En8sf4OA7UOQhELBrAArQj5Dj4Ju/5+9vDzbu+h6EHnVPCHAFoH2AAj+fn8HwZDBZH9eQD7C3IRfhBLDbIHG/1g8QPu5vPy9HbwifTZ/T//0/lw+GABtB9gOesd6vGP8ScJdQcN8Jjp+/PZ+2X/yQFH/ZXu3eeD8scF3RPuExQNzQ41G9MYkAcAAIz+dPvJAfsLeQfr+UTxavSt+wn6q/L78XMAfwyWCbAF+gVZBgMFkAzcFwYU2QgBCdsR3w+AACP0RfTr+QP/JQNkAmX/dv8SAYEGSAunCcwGyQlmEvwY1xZCCYcAugDdAaMBifka8uH0JPxDAMT/uvh98wP6jQKDB4UGvgGbArAF0QU2AGD5HPZb8+n6tQniB/36mPCf8McAAQYw+zH3/PwvBTcGywBP+S/1tfSj9p8AxAUvANT8NP7fAPf9y/OU7VXzivovAPIJWA1gBhr/mv5cA7gEGvyU9+L/LAgfC4kET/ng9jH3UPfs+hf/8//M/i4CPgZmBgYCC/vZ+/0CQQbuBlQF+govGaIUkwT1/iv/7gHLBSQCmvwt/oX+FABRAKb7BvqV/X0FFA01D58KUQiMBpQFSAsOCO0AlAL7BmUK9wivArP9Jv5EA7EL/Q9MDn0NxQuaCTwHowM8AoMF7AovDX0KAQbHAIT9K/8fAfQD2wcGCpMOjxBACugEcv94/M7/kAJqAX8CfQVzA34BogB5/8L78Pps/ycCugNPBB0C0wH1BCkGdwZgBAD9X/sT/53+mP0++yn7uQLdBkMFmAUsABH7ggGhB8sFOQB7BJoOWQ5eBZT/xv4M/Dv+5P4e+GH64AOICJILoQc4/Hj8ggR4CccK3QZPBlMMtAteB8IGcAOEA9wI0Q/4E0YMagQNBVkGLANw/Wf8ygLNB0cFkAQbBQEEEgScCIgQGA0dBFUD2Qb9B38ErgFVA6cE5ASNB4IEKP2r/kIELwjlDNgKZgZzCKkK1wfnAVX9t/v8/J7/nANLA5T8L/im+4IBOQAD/f/78QFmDRwTMBVbFOQONAmECA4IvQBG9fnvVvQe+FD3iPYI9LXyQPpgBOAGSQLaAV0Jwg4SEAMN/AnDDIgLbAh1B0IEO/7r+V/7cPuu9IPwTPek/goADf/M/kkCXgUYBu0D9gJNBysKtgyBENUNxQND/xgDsgIAAM79pPzVACECJQBNAJkBAwDz/wQDpQIuAjICDgEzA8kGGgLh/ssD1QNX/6f+xwBZ/kr68vyYACEAK//OAHEE/wb8BEEBuAENACD80fr6+gH7SviH+Kn9ogCc+zf5nv8OAdv/ZgM4BMsD2gQXBagHowYDAML+BgLq/bP4mvn8+b74pPmL+xT92v5g/mP+JgE3Aeb9jf8KA1wB3/2D/BD/6QDb/LH5YfoF+b74Sfx2AGX/MfwR/UAAEQOWBLwE2QP1BCwDL//o/IH7dPnu9ITzlPcc+2r5SfdW+f/7zv2EAIYCGAO9BWMGEAIKAFD8H/YP9Er1bfaN+nz8LftL+9n4UPcT91r3K/eH+Bb+LQFy/8j7Pvvh/Ej5jvV7+Uf95Plz+F38mvyl+g/5Ofpz/Qv73vd0+5z7+fRW9E36PPrK9Rb5wPxn/Bb5MPZV9oTzDvG+8zj39vXG9AT2E/cE9nPzyfSx+WT87vsJ/Mj7mPhF9ITzU/TP8dXuAe8P9MD1hfG/7/rw5fJi87f2Y/ti/c76M/gW+V/4jvUD8/D1x/op+7f4MfcX9bbw+usb63vvsPOz9Qr4IPxI+0z3dvWA9Rb3tPah94/7swAi/Rj2+fIE8V/zcvKA8Bjx8fGw82bx/e3q8UH2ifIE8dz4mfvA+tz9l/wQ+pD3u/Zw9ln0q/RA8+v0IvZb8J3vGPG19CX4IfKD8HD23Pgu9+z3+PmE+LzyM+5r8gv2CfXs9Uf4sveH8y/wkO8h9VL2S/Ee82L4oPnJ9Bb0xvfI9mz1XfeJ+Qv5bvf/9gn8P/yU9Z/4Ifox96H3kfoD+Aj0svdU+i3+hftd91H4YfVA+An8Lvf19IT4tv/k/qv3pPlq9lb0mvd99RL2WfnI/Yf9wPqG90TxR/PA+r77aPc+9Jb2hfls9cfwBfK88gfzf/RE9j75bveo8gf2ePwH/Wr50PncALkCa/x19637jf8p+4P3EfhZ+eL16vMB+Sj6Ave2+goAOf+6/eT5L/j/+3T5fPdq+X7+ggTA/Cv1xvlj9sbykvbu+QsBnQEJ/5z7hfno+QH0J/fV/VX9rwK2Beb9mPWQ8uP2vf0p+OX3YgWoB2j/PPrq+KX1HvVE+B8BWwVy/0r/2/cR8xz7Uv6M/on8bwW6DWQE6/kJ8rDz3/1o/3T+7QMTB74DTPl/9Dvvde+z//b/ogBLAyH/5gVf/bXyRPZ0+fb/rf2p/Vv6A/gi/Qj0avmSAUT4xP10C+EENfoI+WP2XfRU9Vj45/4vAEz5iPZK+gj58fa6/TQEs/3s/24EKfuQ/Hz3Q/UL/h79K/dm9kf9Mffu+zoLWgLc82D0pf+EAJb2sPP0+zX3o+yJ+VoCywDX8u3kofzgAzj3APjQ+egExvzP8/D65vUE+0z5rfF6A0IEhwB+/rj0vvHU8vkCnv+t+4L+3vcQ+jX6w/yB/f0Agfuv8ksBxwVq/sT6mP1d9KvtOwQlBSwA2fsq+S/9i+4Q8A723/+hCc71evPtA9D5uu4L+3gJ3AMK+Jv/Sv3/+W0LPvuZ8boFvfUi/ZgFIPSj+3QBcf4P/CUDifz1/r8EgfFEBs8Qpf+i/Tf7MAZ6+/n3X/vL/TYN6v0DAIUGjP5EAx7/AAPK/978wgvn9ib+6w6194kETgNA9Uz3m/XvBEoFtAHP9srtIwnJCej5nQTmCBIEzwGt+6cGbAPf9RoHGQn1/pL7T/kMDBAHWfuWCS0GaP+a9EL5gwrRAB76+wO8ERT9/PTLCtH/aQhu/tf57BTh/gUEaAXE+rb/NfyoDJYB2woYEGjr6wT9D/f9aAoIASz4SwjvB6n6cf6R/wEEWgRc9moBZhCOCiD+ue2SA+oGfO1sBbwESPtLDRoHjg8sCH/vhfkD+EQLhgzA7VsPYxC//tMG5OeK/3YPAecBCVcb2/VBC8cPwvZC6qvqqAJ3A6UU2AqX8lsSFgT29VEAgvSD/1oEqAfvB2YB1va++DsJ/gNdCbkCTv2nCeX8N/up+ur4CQKLCCINbwDG/I33sAPXDkrwpPTsB7YHwwfM+QQDcgpQ/Nz42PqAAGj/yQZNBYEIlAKz+DgOo/by7ykSYhePCwH52AXMC4X0dfym/e0ICA4F9+EJEQMj+YEIzP4J/zH+OAe+EqT03/USEzwK3/Va/AgBMgCIEN0BIv0nE//7QPqGEfH7Y/vrE4UGoPb/BuoBdfJeB50GNfzTE8cCcfRIEFQFufzNCc7/MgWUDBUB1/xc+0IJUweH9X779QYBBHEJhQuB/SX9owawDXUMWwVt8R0EqxFS9gT7AgJeBaoLYgC1+WIDlgYNAIQA1gGJBKUHXgoXBb39DQrK/KX3xBIJApz28ABiCB8ISPR9CGUKF/rnC6f0+vqeGwsGdvpz/SgFJAyX/KT09f4vCPj+8vytCKkF9ANn/pH9hAj+A9P5nQZRDZAC0AQyBXb9WAgLARED5RH6+NUIfAc++cULF/pgBk0HA/qeAgH7ggHNAqcESQzKD4n50fU2DVEDShKlCvHxSwMr/5YEGv/p8IESPAVf9tMOKv4bA3kHuv0BCyQC0/tcC14AiQRTAnLt6w4OBtH19QQ3BuoDeQAfFXsEUvaIEG4Hzv9IBqwAFgJ7C8z0kPfWFcv42/cyBWv31Q+iCoXxARiiEk742PqFC/4N2PD2B7wJHQKLCIL+VfgaB5UNKPXHAkwRuAv1BGUABv8y/4QDTwRRAKj8oQQdB2IDxvzR90X5CgUMEecBtfkCDHoSh/rG/BwGyvqDBwcQ6QDw9fkJJweL7kz55wa8/DUCVgR9AP4NogAc72QH6gZA7kcIqwIXAHgJ+/aVCEkJbvxfA6//Hg0ACKX6aQ2W/t/9OgjzBZkDH/YmBuMNlvu4Cfz+MvqzEsz5mPqhBxcAXQ4XAJHwkQ8MBzAG4fnT9AsdfgHoAlv/nvzAI8r3zPtjHUTxHAE6CyH6wwzI9tv63Q6L+2z/iAPxAcMHxwf7+3MDwgkD/0kCfgafAMsAowiBAzgCmQE//4D1/g2pCpT1iBDaAV38Fge89wAAowgN/Z3+GwWUCk0FIAQ1AiMEjAvX91kBHQwy+qX/4Qn4AYr6RwC8Ao337gn+CPj75BPuDhz5OgNfFcUBSvhzBe4LAQb+A+ALg/UY/d8NNfrQBK0DOvYjCT0Ns/qU+uQGwweUB1oMt/0h/4UOo/tDAkoUYfUg93YXRv8i+04ICfx4CfEBD/zhCQT7Bf7O/2wATxNC/Ev2mgkF/moBTwnXBx7/tAF4DgwHbv6C/hj9tQTRDPP6rABj/qz14BC3/er7cgrH+pID3gIwBjX8U/lOGkUEwvTzBSYBgweC/h33QA+pA2z4igUc/r3/sQFxBMsAMflJBDgH+Pk1Ah8IePe6CLIHDvaIC9wIw/K8B9cEfgEJAsj9CA4wBtz9qfjw/TYIuBNf+IP1pQ+R/6UAvf0495IDb/qqBjkPvvEm/qEE4gWQBzj38wA+E2kI9/OWC6j/5fcbElDtVAU7GwrpdQQlCHn6TQL0/VMHrfufA6H8MQTlDBz01f0MAq//0Pxb+tP5Lf67+w36vAn3Aw0AJv709nsEyQbiAI4FxAWQBNv8EP8nBMz5qgZY/UsGJxPI7pMEFhF4/i0GLf43AeYIPfiUDFUBcPESFYgD9f4DCon8eQdTBBkBZgaY/38O2P/VAxwOAujYBbQVsPMJAhUGZvjJCcD/e/ZLDYoHnfm4CdcMIf+U/0sDhQvb/MD6bAjs/HkFjg/0+0/+vAQVBs38+vhiBez6ewaRBT/y5gj0/RH4YRQm+0b/mQNBBhsITPnME/T95/tADXj8tQmOBajy3gSaDK392/xJAvQIHwP9BdEARAOnBi/zTQdKCpb5gwJLDVcCYf+FDt35NwGAFAv5/P5IDlcKgv7m8xoPFgSG92YL0/tsA4cKzfxyB0sIr/8KAz4GVQaz+nUCPAqx+WYITvjf+FAb9AMxBEb/X/PFEKMBY/7mDdn2kgOlAm37QgzL+OcBtAZ/ApAJFftMCRIJPvaMC9gUBvDq9pAMWP2sCoL+kvhoEUD4K/UuAmgAxArE/bL37glh/J35ZAnn/kcAzwO8BAb6zfyAAC/6Jw5++5T1Zga2Ah4FS/Y3+U8Q3gmn+WgCQQY0+e0A3P2QByD+IOWqHRgI1ONqCxT4L/2ACvTz6fo6C9MJ8PUk/9YLbvf8+d0TUgFu780W2QNi8HUHavtG+pUNiPti8EEQdAEl9VkGX/twA38CgP/dBlX9+Qwr/Mr/nwpp7hIGFgkR/aoBRf66BaH8o/t9BdD8OgFEA6v3YAGQCUf9ufo7BKH8zfwBBiX47QPeArv+7AKy/EsLifxn/owL3fQW94UQpQB0++QOnPMX/40U1vupALwJDf8j/h0JSv3O/bsGnQbu/mMB6ARp+CkNxP3R7SoO+BAM/EL8ov1bDwkCT+++Evz5iAGKCiTy8Qvw9UEBmhYL9kL+TP7MBgEL+vVZAacO5P5A+o0Mi/vB+JQKPPrE/yob2/wZ6g0Sxw9b7jwFgAr79hYR6gFP9iUKfwIX9cr64BX49i/r9hY4AqP75wv89DoB9hHr70b/GxcX+p78wQg0C2QC5ul8DKMV5uYhAjcLbP2bD9H1NwGcEKj8kw4DAC37UhAR+Er9ZQWW+UYM5vWL/TQThvJKBaEMhfSvAlwQrfZ9A74NePQ/Bz0IVADq/bsB6AkK+GoE3hFk97ICBRbi8NP0vw7l/CcESAGU+tEMLgKm7nMFERKQ94X+CAYhAOIFVP8+9qL/fAJNAnj5ZQABDvTzLQZHBcvw/A7vB2f5wgth+nLwNAucCHUCnPaMBmYNv/kQAFj4EAoEBoDwiQzyDGD0r/8R+zL6twjQ9N0GShQF+fT9ZQAYA+kAg/oYDYr6ov2rFhH4ov/u/hP3wBYu9xH4vBOlAH0AR/OfAwQQUvFuCZ0JFvQ1DHj0oQK1G6vv+AGaCTb4vAw0CafvCfylEX77jgC8EbX5g/eUAn0Fyv/qBnMInvL9D3sEgek9DSgKDgGZ+xsFQAgg7ywN8AAx9GoOxPj9Ar8OwvFK+GUKbv4G/3cD0ATa+bD9cQ6x+60NgwJ17WwS4wgk90MCrwJCCWAOPvvb8tAJzRYr957/lhDM7B4Nixqn4rAD8Bcp7tYBxgmg/gIH/v0aAnUE+gUhB8j4owZNCrf9YAQ9CGX/7P+w/XT50g2jATH5UwJzA9cRlABS+10Jq/y4CVgDU+8SE64BBv8AEjL1NgoRA0nv5xAwBvv2Hgou/NIInwWU6H0P9QZX7TIPCAkk+o8BHv+bAugEwQDy/jkK8wAb/d0QVfiP/uICXPFNChcAyv/sCgP95/69AIf4KQvtCH3pyg9hD4PtMQn9AmHtoQRND2/1zfcWDtf+9PbfFPUBUeYVCzgJC/G7EET9uOotGur7XvUEFTX19/04Ah8Btf4Q+pUXX/iD+iEPKfbp/6YDcvVTB9UDPfivAkT7qhBC/jzwNg1R6+QBnB/n7IX7MQlG9X0KdwiU9c38wQ0+AcD8+P559XcGjP5O+ML+BgB0AX72hQveAvXvZQpb+jj3jgrp+oD6MQT5DOj5cfTGE8f6VfgpEuz3KPo0EwgJH/uHBe8EuvXK/I0Cdv25Anr7k/4pC/L5uP7xBj8CyvrX/EkCUPz3BXcI4AEM/PD91QAN/8T/5PnSA9MGE/ejBmQCEu8fA9EKZ/l+AcsFQP1DBekFkvv6+Bv9iQQQAD4BlAoU+mwIrQP3+GsH3fmL+LgLs//07s8IU/yd/h8IHPSrDooAc+kpF6kKSPEm/rn8WQkFBD72qQN8DGP78//HAjwC6Amb9W8CLhF3+1f1hf6GBAAAlgEH/RP/NwbR9boAPADM+yT/Hvox+a7+XBWi+Oj5WRhE+9HyfwzLCJD32gH7+5L7mhGk9Ob1IBZe+ifvtg9xBFjzoBMc/pH1fxHI+Ab/Vgll/WQEuvj7AzkKFu9PBtb7XfS9GUj2JPdKD8bv+Q5FEy7esA3FEML2IBY+8dH6NxUEAc71JfjAFo71LOm6F+z/UvFfCEMK+wE18v0Amw//+zb9Cf91BDYF7PyJCUf4bv4gBJD8rQjm+EoF+Pvz9bkMXPGU99kN2gSC9GD5FwqD//0KlPrs9xUaC/4jAZIIle4EAwYK1f1FAWwDb/qrB80MhuhTAsAKLwWdAWnzohJp/f79VQEi/XEBRvf4BjP9/Pxu+fcAHQeI9gwEiAYrCiL9lvHCC20BGwAk/Hr9NRHF+8L+OQXy/loCP/+HAC35vQBrAgMAKwVX/A0Fzv+zAM71Mfm+CKn46QUJAi0E9QQd99gFgfvX/JAOY/E4AroShu0CBzAGG/NwCxz7ZvgDD3H+gvksCDIAe/48BwIC7Pc7BHcGFPopCIwBfvZ1CVQAyvc0CaUK7QjM/qr7Q/87/gAN3Pj/9GUFNAHxAw361P+2Bd8AqwnR96H8QApT73sBaA9l9cQFAgec8/0H0f8l/TYI9vz4/roAcP1iBXUET/RfCBr/p/myEYfwxACOCNnx/wal+ir5sQvdBo/+9f7uBu8Czv31BD/3qAI4DmT3QgcQAD39ow0B9E8GjwaN7aoQWwAL9ssKXwP5DC32L/hJDCL7RAO/BKn62fuSAQMI+v2W+VUDCwbi/1/4lvsrBTYFwPwl9REDxwcl8yAEwQNt9u4JdPSiANwStOJTApYOie/3Ddv62/pCCd3+iwMY88QIRQmL+FEP+fR78eALmPg6++wCe/Q7BPr49v8oCmDx4Aue/wICbwq/6jgM7wwn7zMDTgPw/cAChf5tAW0G7Py1+TwC+fy2AgH5MfwEBpj9KA9p82z45RmH8CIDgfu56Doa9Pul8C8PX/0s8x7/Vv47/psKKP9V9mkNZgFV7pD8EgmYCFHzNfqrBN3+dQe58kr/ahBC9CHtvwQ+DjTs6gEYC27qPAxl/V/u6hfG70PrtRGNAsr/5PTPASoE0/Gi/cv96wmM+QLtvxObAs/pUgEOAR79KP1K+iT/sf6bAoX0PQNfCFXxGwANAOn/9vqP+7ICUPcJAv0FLvdjAV/9uviSBv3y0/bnBsL5f/xj+b/vrQv89DLrhR+v95zu9Qne/DABUfOd+YoC9/gHAxj92fMRDUz8xOGzCmIDge5nBHn/+v8U9Snzowj998jxqwJj9i0L1P9G6OgT2/rl9/j+3OlKCrH7EvZWBMT1YAv69SPxpwsu7Zn7Fg4O8bv7vALj8xoKi/vT7PcKEfhO/YUJefC4CwH2jPRLCGzr6gYy+nDu3gfd8XT+9QGy5RYH6AQy9csAhfb3AA39JfA4Ahr6u/4L+ersdRY496HvHwZ38Y8B/fXJ9J0GV/x29UL57we99avqTQWIAU/5dPs079j1Lgwf9pLu9wVo+vH2ZggQB57yCu6BBsoHXPHB+Ez+8wCYACbxCAGZARXnJAfNDrr4m/9Q98kETwTK9V4Cwvkv/Y38g/V3CGX13fT7CCH/8wDd9i73zgUBBGL49PYxCf8BSfyF9sIESw0Y7nL82wfOAK/39e/ECBkJqOhJ/LgOffq29Sr5tRNsAPrrCgXMAWUKoPZu6t0QJQUK7rb6pxOrAgnoog9gBB71awda7RgQXg9r6HT+C/7l9xz+WfGV/ZoHy+5W/vcAzP6K+mz43ANt+38Hjfy69eAQDfCQ7XkPc/MaAof4kfUNCmXwwQPWAQH0QQHG+ZT3MgVx/t3xRgpT+bTs3AWw/dQChPOa/D4QevN9ALAIW/Cv/CEA3vc7BNnzr/cEC3r7XAGRAML59QHG+U/22fgGBwwEYPlqAcX7Nfo0BkfuRPh4Cfvx6A6k/sTwVwUOAS37GvqNBwb1qgH4EEbwWPhHDaL6S/uFBn3ud/vaE4v9UfhKBQH58/9+C3X8Af7k9NMJ9QRC980MdOxMCaoGg+jYBer4HvOt+PAFRPtR+JAEwurLCtYQQ+MfAw4GD++LCI4Iu+xBAc4S5ua++5YOgu/5/BQKU/xA8M4ApgMU8wAD/f+J+eAI9Ph09vsBTP40+avyHQf8/IDwZA758s33Chxm5wj0dB935DX3QCEJ8trvWwiJBH8CdP7s9eYA6gN99XkANgVo+s7/dfdLCF0OterbAmkI2fua/uXyBgo1/+f7AvwoAM8Q6Oi+AzkKl+13DYX+hfZVBn3zPgSD/2b7kQp1758ImPqx8aYSlvGFAcILuPSn/vkCkfqsCjH+HvUbEtHwBf6VCBD1IQf//mz4vQW2Anz8DgN09rYK8wdT7WcJiwhz82r54QRZ/oP6MgLvBEcD5u4y+l3+EABEDRT14fceBdUAXfnE+kD9BgJ+ATP4TPysANT/aP+0Af3/FQap/fT7fwIc+2UAJP/g+0wJP/9j8aALevsF7eoIywC5/McCufqi/+wF2/eo/ygAX/2tDezyZf2pCu708QPV+H36tBVQ/H/yvguSA+X8GPv8+QP/kfXo/L/50/kxBBj7g/+k/uH5Bv+k+XD9W/2S9pcMBv8Y8bMNbPXj6b4BUgt7AV/uPQMGCubwkPdTB5T6Ef3b+p/4SBBf+xLxuAHb+kkEi/aa9+kK3vchAtj18PUaFGjokvZzEs7rJvtF/rn8RQ4H8Xzy8QbrBIz+I+x9CksLZvGGDJL4xvw2F9rqcf4BGN/wB/uQBx4AQPU7BDcLQ/WtC8r/ZPc8FAj5g/V4EZv/5vjVA7EBVf37AYQAkf3sB/oAyP1FAUoF1f2H+BoKm/98/FwG4QQHA7b6EgS8BNH/PP92AFEKtfm++6kIov2wAPcAA/rh/rgG8vl3+2EPavQc/qEWXvXS/f8LgwKRBbMAlPW1/p4PdPZw9iUNlv4LAaT+PPcYDUkEz/MzA/QDif5j/sz+Xwg0BmL4RgIEC4L+EADO/RsFoRHb8BT6Xx9C/IH4iAhkAroIZPya+eX/TQxaAonvgRI/BybnZgtlCof6Ngi5+h8Gbw9T8hr/uwZTAmQMkvazAF8QlPqOA1sFFP2IC2H68vzSEpb2dfyyDDgCKP+e/GYIowG7/lIBiflFCQwEzvhTApT8kf38BG/6cQGr/M38lRdZ8aPz8B529ejyDReO85H9vhK37mgFqwke9csDAQFb/2IFXfkUACwNtfyG/CMJSv87/Ab/AwDjDdcE1vuvAg4Ba/zeBIUBGgKCCe34lwf4C9D0O/7aBCj9JQDpBYoARv+TCe/3q/QkFOb4LvKpEiP+V/qMBMD/QAi1+VHzohKqBpP5swASCzIClu8oD0QDivWBCDn1WgSUCk74xgR6A2EHff2+85YJ+QfH+oH77AUpBsj9YgCLA/EGFP21+e4OBgp/72YDQgx5+lEFm/Uq+fYUMfds9V8SdQIcAUgBP/zMEGX9POtQEbwOwuzLA/kJB/snAhD36AIQEe/3cfQrEXYF4/adCZUD/v0g+V4ANQzE/XP9B/s8BT4Vk/RB8ewPCAHk+b4D3gRxBMgDp/4QAKEJN/n7BjoLc/P6AHAItgKW+zYA4f7CCxIL4/NoDCsCIQLwCAPzERIaDwH0eAkTAtn2AQYL/mUKDAzP8UcDeBHcBR0CT/k4CW4JePf2BzYIjAbR+p35DBZK+Bjz7wxPAfMFSPS8+YEVDAKj7Jj99Q5Q+uf+Igj6/+ABw/w1/EYHcgKL/WkDEgSdBv3/ef9ECMH9AgIPBLP9YAYE+6z/Rgfn9twA4gwm+yv8iAFY/VYO4fxZ9lsS2vl4908ORvpxCY4Ki+ntCFIQofdo/6kFpAlL+2HtJgt7CaDxQwBTAhMH/v1P9tIIOPwwA94CU/cPEzv+pfXoFqMDkfW6/UIHdRHj+4H4SwsaB2wFGP1eBZwL7vkL+yUFHAtj+VoC/wlX/G4E3AB8AkIJsfmf+BAZDgEj73YU1Aei+rsGM/scAc4Pefq596IPtgCU9RwLXQTb+hkJdQQR+MEI+wHG99ERwAJG8NoOTAkM9wgBpARsCOAD4Pvw+oYMvAzm8/8BFRUJAlvzYgWpDQz8gQNwA+z6DRLr/n/qPxH5DqXyivq6Cs0JDPwa/2IITAmC/h79wAczCAn/KAAOCzv5eQIND5j6pgh8DI38yv8PCVUDKPoKDZ0J6PI2ChYMB/g4BNcEIwbiAj/8vwTHCjYKoPa4BDkPofc5CusEvPfyDCr5s/0YF8T9o/aABeoGbgT5/M0CdgrOABD/Hwb5CTYIo/vZ/QAS7P/L+HsO0Pll/SISfv7u+Y4N7AzP9qgHuwuu9BAKGAjs+uEOi/3M9tMds/216hwTOAmo9+z89Q5ABX/8aApj+fIEQA308/sIvAwL8SkIOAyn+YkEY/7X/MQK7QN2/T7+KQhuDGT8fAdVCPL8TQf6AHEB+gXXBIYCg/9+EOYDcvUtCwH+qf1JCbv7fwTqBqkDSgDKDMgIG+6hB/8JUvviB0sG+v27BkMPhvxq+e4G7wfl/0z+cAPmAIMFbAr6APQD/wGx+0IOofxf8xYOGAiFATABTQBECw4Du/aDBfMHW//IA6AGDAcEA58AYAQyAOH+WgT8BJgFNfxA/XsQkQXKAu4BoPvQCQb/Xfz3BQ0FaAfIA9oBVf0N+n8Hh/9j+5MJmABOAwUOPAKq9qEHBQ6h96kF9Q7U/GIFcQGhBDoLyflUANEClABhAir+xQHLAxMHIP47+UsNxglK83MFmhFS+9cEfw7x+28CRBCc/TX/DRKD/Ez83gklAMkBXf6hAjoLy/1X95kLXwjd+QsB5wbkBgr4DgEvCDf+zwbmAFME8g4AAyb+hgR2BU4IAwUs/ZkGlwfcBS8A7/yZC2cEuP62BYf/MQSoDGf+TvsKCmYIwQDB/V4Fzwan+RIEvAc1/50G0QBv/7oFrP8AA6cBdQKVCEz8JQV1Bxb38AVcBoH7gQh4BK37xQvECCH6FQtLDbz5LgJxCZMErgFK/SUI5QwSBHQBVP/5BNQH5AEKABwB8AjsAgf9kwkfBk/+wAUXChwBdP4uB8sKRwXtAIwElAVkB3wCcf5ACtYGbP3cA+8MJweW/vIJCgoDAOUCSwb7Bv0FUgHb/xwL/QoP/LwCBQmvAn0D0QAsA+gMaAWH/5oMnQYF/AkHaAySAQH7SAZ5BbgBMQkFBEkEBAstAY8BKw/1BJP5lQj5DEMCXAMoBXEGMAtMBGH8IAkvD2P7TPz/EHsGO/zHBfAIqgsIAY36/QqlB7P/SAEFCRsNPv6AAHgJigVJ/Af9FAr0CMj9Vf3RBUYKSwNE/WcJgwpV/fz8DATyDjIHxfv2AucL+wZX/1f/hQm8DBr1OQBSED//Hv+LA4sIzwj8/IP/qQomBof9agGXB5IGN/6GAicJ3AP1/iMB1weOCNgCDQVwC2sC7P9xBqcEzAFyAm4HPQgSBKIFBgBeBRENj/lb/SoO9wWc/S4CowiECCkBPgFJCaAGkgG4AXEGMgfl/80CkAx1CQ777P/HCloC4v8uAj8CRwgOAzX8wAdLAar7xgygBvD/0QL4Ad0G4gUsA7QDiwj+CKYDwwI5Bb4Dm/8aAs4FJgY0/i0BOQpvAvAAFAOtBk0HFP1MBH8Jkf/lAmIFEAJNB/sBfv4OC/sDZ/ypA6kFGAYyAlUBTgN6A2H/U/xXAicCW/9yAnkAuv3fAPoAuwGOAxoC3ABLAxgGZf/i/5oJIgMo/30DAgIsA+IAD/48AkkEQv5v/wYFcf5u/LsBbwDbAnUCd/tCBHkH5/t8/N8F7wRa/LMAlgQr/yUDTwH4+/kCEgGH/fEDIgMS/qv+LAOlBdECO/ya/HEENgNQ/KD+7wTBAHX8Tf/pAEoAdgDs/0P/JQOJ/n/8fQPZ/fL8UAIe/fT91QBO/QAAEwLC+8/7tgAOAaf+Tv2A/0z+/v2R/3YAywCf/Wf+mACJ/GX9V////lsAX/sF/GMBSv/V/YT9Sv8OAbL8Ef33ADn/Jf2n/pgAxACD//b85/62AD7+cvxI/t0BOf3d+y8AaP9s/Qv+Xv83AaL/FftZ/mz/zPtL+2r+TwEl/ZT/EAIX/4MC2P82/TQERAPN/Cv/2wJyAkAAwQDqAfb/F/+g/hcAswDc/Sj9vQC9AJ/9E/95AI8BmP+H/en/wgGwALH+mwAyAg4BBgCMAQcDLgJb/0X+uAGUAJz9zv//AXEBlv7y/uQB9v+z/fr9j/5S/vn8h/31/tH/SP7I/XEBSAH4/p7/fgEQAiEAtv+0ARYCjAHRAHEBLAMwAaIA/gNpA00AIQB5ANgCVwIX/50BLAPzAMr/jAFYAzwCWQGAAIcAwQDE/Rz+7P/h/KT8bP/H/zYArgFQArEBkAIQAikBnAM9A2oBZgNDBfYCyQHmAycCUQClAh8BRwCpABD/OQCgAR0CVACiALwC1QBHALsB5wFgASMBaABgAQ8EWgJtAUsD7ALkAeoBpgOwAzoDXwOxAbsBWgIpA3sEhgRsA8sD3AUEBkoFVgTRBW0GpQXgBhUGqQVlBYIE7AX9BSEFigUEBlcFFgSSA9IDVAVMBOYDmwVXBV4FSgU8BXgEnAOkBIkEeAQeBVYEKAWsBboD0gOjA0ADWAOVA3EEOgODAjMD/ARpA0gBxwKNAsUDKwWrBNoEvQXXBDoDUwRnBGQEbANYA1MEOgMzAwEEOQWVAwoDKQPTARgD8QNhAloCwgQjBOgCXwO3A7YC7ALNAvAAoAHaARIBEgGdARQAvQAxBN4CIQLHAiECYQJDAicC8AAmARACKwJsA9IDowM8AnUCTgP2AuwC4AEaAuICBwN8AiQCPAJgAZ0BVwL9AnUCGgLlArgBqgH4AR0CxQP2Ai0B5wEbA9wDQANGAhgD1QO3A+oDUwTbAmABjQJyAtYBdwMzA6sCjgOxAfgBegMaAnkCXgL4Ac8BwgGlAp4CjQJoAj8CvAIlAw4DZAKoAnUCsQHTAZ4CpgPzAj8C7wJ6AykDzwOGBPYCeQJcA/UBZAKZA30DMQSVAyQCjgDmAJcCGgL/AZcCGQEBAcIBnQHKAjMDkgOIAwcDrQPqA9kDzwMYA/cDDwTlAvgBRQE+BBsF8QMDBYMFSQQRA/kCHQKCAWMB7gGVAz0DwwKLA8ACZAKXAhYCbwKvAmABQwCEABYCYQIyAh8DdwNpA28CKQMEAykD9AOvAskB7gGMAQQBxQFSAZYBUwLxAVoCggGsAGEC1AKIAS4CMwOlAjwCUAJcAzADCgNfA9sCTwRqBCsCxQFcAyIDZAJDAmYBOgEIAdgAmADLABwB7QDiACYB1QBRAHYAdgAoADwALQEzAzgCZQACAsIBbACfAIQAaADRAID/EAA6AQQB3wC0AQwCg//n/iH/mACz/67+vf+A/6wA2AAcAToBVADA/9wAfAJKANr+TwG7AWABcQE8/6j/igCK//r/SwFFAUoA7QCwAK//+P5N//r/2v4Z/sv9q/6H/03/Tf8Q/1T/bP8T///+Cf/1/tD+rf3Z/eT+/P62/2r+Xf4X/0L+Sv+u/pP+E/8y/1n+7PyO/WX9i/3D/AL8U/xd/I38wPyh/Pb8nP3A/Dj8jv2a/Ib81/6i/dD8h/3c/Vn+Xf7f/RT9wf12/f/7//tX/FH9Wvx3+yn7Y/vv/Jr8pPx//NP7ufp++xT9j/tw+wT7Zfod/Ij7MPvY+mz6kfr8+bP60/n/+c765Pmv+gH7yfly+hj7+PmY+kH7lPqd+VP5i/iF+Vv6dvii+IX5NfqW+af50/mJ9/n3Nfra+Rb5sfmP+WP5b/rw+pb7j/te+kz56/nd+zD7aPoO+6L6QPoO+1z7rfuj+9X6cPvC+377ZvvM+/H7IPyf/eb9YP5q/hH9X/3N/An8+fxG/Mz7a/zu+4/7evvI+zD78/qD/AD9G/1i/WP+Af7Z/ZH9ev10/kD9mvwr/Nv85fy7+5f8U/zZ+1P8ufws/Wn9jv0B/qn9jfx1/LX88P3B/Zj9pP6V/cj94f4e/4f/xP1//An/xv65/Pr9s/2c/RP/9P3b/BH9U/xh/IT99/2Y/VP8G/0l/cb8svzg+4b8IPwP/kj+vPwm/jv+c/2c/cH9Jf2R/Vj9Jf1n/tr+pP64/qv+sf4e/37+9v88AL/+5f+U/0r/Nf+W/ij9f/zc/dL9Wf5g/kD96v17/o79Pv4G/y/9Bf5K/0/+u/4X/3T+Fv7+/TT+JP9y/+f+u/6W/qj/XgCo/zL/1/48/+H+Tf+6AOkA3wB5APP/+v8jAboAV/9y/6z/2P/K/8n+tf7i/0b/YP7f/Wj/JP/0/YP/eP4e/6UAAADT/pr+8P95/1D/JP87/kL+pv3h/NT8Nv3O/T7+bv6T/kb/7v5F/vj+rv6n/kz+v/58/3j++P5y/0P/sf4L/nn/6/5+/oL+Zf2g/s791f31/tf+e/5F/s79D/7T/hf/Sv88/1gABv+g/uH+j/4XAC//tf7R/9//DQCbADkAxP8h/x7/ggGFARwBggEOATwCYQK4AYoAVADRAB8B2/9X/2gAV/9SAUgBQAB9AK//0QB2AM4ARQF5AB4Ax//Y/5j//P7z/6UACwG7Aez/gP85AMr/2ABcAXcBwgEcAaMBCwEhAB4AP/9G/xAADf+c/av+4/1p/Zj/s//A/53+N/6M/lL+//5K/3L/8P+l/93+bAClAA0AMgCEAEAA2/+Y/9r+W//h/tX9pf+bAA0AbwAGAKT+/v2T/tL9nP2u/lv91Pwi/dT8t/29/U/+pP7C/sT/+P7d/lv/5P7h/i3+wf1x/lX9/Pyk/Eb8Kv52/a/8A/28/JT8ePzA/Jz7nPsv/d78dfz7+6P7U/xy/Lf9c/07/Dn99vxh/Gn9Ef07/D/8lPyt/bX8OPzU/IP86vvH+uD7Avxq+0z8Gvyt+5n71PwN/eX8Sv32/GH8zPu3+xr82fsJ/AL85fpI+z/8jfzl+r36MPsN+l76UvvC+8j74Pt3+wf7Lfsz+1L7Avze/Cz9K/wW/Hz8Wvze/OD7ZPxO/Tv8LP1V/Zr8Uf1l/dD8Nv3D/BP81Pwz/ZH94/02/dv88vxX/Cj96Pzj+y78Nfxw/cP8rfsl/Wf8g/pO+9T8cvze/HP9Wvx8/K37Ffsu/Gf81vsR+9/6i/tD+ub42PpE+/j5GvoF+S/42fgZ+eT56/l/+cL5QPoX+iL7Cfzn+5L7UvsR+zn6vfoO+5T6m/pm+7b6Dvvd+937l/xO+036tvom+237PPrT+YD67vme+kT7GPsR+zr78/p2+hX7rfuc+yv8mvwr/GH8+Ps7/PL8h/3l/PH7QP1O/Vf8xvyf/XT+L//r/on+7f0i/eP95v0S/ln+C/5x/vX+wP/J/ur9Jf0a/BH9vf1M/G/6m/pB+0L8jv2E/an9GP0p+4H7xvyP+wz81PwW/oL+hvzh/HD9vPxT/Gf8mvxd/FP8Qvxr/Cf8+Ptz/WX9FP39+jz66PwN/av8XPuF+z/8C/uW+8r84fyk/Ln8svxA/Vv9f/wW/En84fze/O/8mvzl/Er9Rvz4+zv8vvsz+zX8GP3D/Mj7Efvl+tj6WfvO+nb6g/pV+2b7j/nH+kj7ovoE+1L7m/ps+pn7OPyJ/Pj7yPs1/Jn7yvqI+937//tV+4H7Qvyt+wf9r/xS+wf7/fr6+lT6HPsR+wH7Pvt5+sn5ffim+PD4HPk8+rn60/k3+eH5IfpD+pb5Bvq5+rj55Pkg+XT58PoN+v74FPh9+J/4i/gt+f74qfhu+V76ePmn+Ur6Ifp4+Xz3kvgU+jv5h/ge+H/5iflV+H/5b/o8+l76nfkn+aD5L/qW+dP5dvr6+Nf5yvp2+u75t/iV+JX4sPi3+A34HPlU+uP4Evn0+Ef4PvnQ+WX6EPp7+Sr59fna+Tv5j/mT+fX5Rfli+K34Gflf+L74W/rQ+Wr5ePln+dD5gvnr+bz52vmb+jn6lPql+jn66PnE+nf7rPpA+iv8cP1X/IP8FvwW/ML7o/ty/Bz7X/t6+8r6S/vY+h/7N/sX+gT7vfpu+dv6mvnJ+Z76uPlo+jL6Kfs3+/367vmJ+X36jfoV+0v7WfsL+0n8D/wz+1f8+Pvx+4P8wvsr/KT8sfsH/e39Xf7E/c/7yPvK/Dn9bvya/Er9Tv3h/Kj83fvz+tr5Dfri+l38ufyZ+wX8cPv4++D7dPtJ/BT9qf1s/U79Vf2p/av8O/zU/J78Qvw6+2b7N/ue+gz8V/xJ/PH7zPsx/D/8kPx4/Ib8dfyU/NT89vx++8f6s/r4+WP7b/o1+gf7HPs7/Ej7W/oO+z/8+/t++2v8evto+lf6gfuN/Bb81Pxd/AL8Wft3+6v8pPwY/Xj8IvtE++f7SPv/++r7/fr0++f78PqH+kT7JPxm+7n6x/q5+iL7g/qi+un6D/zK/Br8Rvw++y37J/z4++D7ov0m/i3+yf6p/TP9pv3I/UL+zv1S/n7+D/48/4T9svxH/bD9Nv2B+7v7fvvZ++D7vvvD/Kv8mfvA+sj7t/sf+9P74PsJ/M/7f/zN/O/8Hv3I+077B/u9+uz6Jvt0+2r7efoB+0r6+PkL+9r5rPor+h76QPqM+Qv7Xvo5+uX6lPoY+8/7iPug+eT5yvoo+pT6s/qm+8z7g/ws/bP6ivrz+ij6r/pm+xX7CfoR+/r6Ifri+jX6aPrH+vj71/xS+0v7zPtG/PH7M/sW/Bv9cvwH+4j7ufxf/Xj8oPuQ/Ln8Wvz4+x389vwz/fn8bP3Q/Fn7nvxR/XL8xfsW/H/8P/yX/CT8Gvxk/Ib8BfxT/Ez8fvuW+/r6lvst+yb7cPv4+Ub6HPvl+qP7z/uH+mb7kvtK+i/6Pvvu+/r63fvP+0D6ovoy+lv6PvtU+pH6RPth+hD6vfoU+tr56fpw+1389PtZ+6P74/t//OP7o/v0+1L7z/tT/An8DPxB+777Z/xG/N78jfx8/HL8IPxl/Sj94fyz/Qr9hP0b/ab9I/5b/Rn+Uf0o/fL8P/wu/HX8GP3W+3D76vvZ+7H7/fqK+j77OPzM+9P7f/yD/Eb8Qvxy/Mb8+/sa/En8wvut+4X7kPxG/HL8xP3o/An8E/zv/ED9QP0o/Y38Nv1g/nH+eP6P/vT9Rf4i/aL95v0u/Hj8q/zb/MH9Xf5q/jf+Ev4m/iP+xv7q/TT+Cf+P/ij/Tf9Z/p/9WP1y/Gf81Pxu/Pj75fyE/Vj92f0l/Yb8Cfw++/j7W/0Z/pr+D/66/Vn+9P2Y/ZX9A/0H/SP+kf26/Rf/0/7t/Uz+v/4L/tz9L/1O/T//dv9M/pP+Vv63/fr9nf7X/rj+g/8XAOT+Uf1S/pT/Mf4j/uf+9f7q/VX9A/9S/oT9T/7r/uv+Y/7S/T39Hv2O/VH9c/0Z/qn9Yf+s/xb+nf4y/14A+gDA/8T/4v/d/tv/bwBbABUB1P8r/8r/s/9h/2z/Zf/U/58AQwBLAacBTwGSAYIBEwKxAYUByQGPARAC/QDEAIgBSAE4ApIBuwHFAbMAHAEIASkBrgEEARkBdwGUAIP/VP99AA4Bov/Q/o3/h/9Q/4n+bP86AVwBGQEVAZ0B+gD3AHsBugA2AGUAsABeAFgAtgC2APAAHAEEASMBLQH3ACkBMAFBAU0C+AE/Aq8CdgDEABkBEAC+AVIBGQEwAVgAZAICAn4BIQJZAXcBswApAdoBJgGWAUUBxAC2AA0AbAAwAQQBqgHCAfoATQIiAxYCAgLxATQBJgHwAFIBdwEEAYwBpwE4AlACywC2AIQASv+b/7/+5v3r/hf/UP85AIf/1/4eAGIAvQBFAawAzv+Y/yEAKAA8AH0AIQIpA2sCvgEBAVIBsQEhAl4CLgJkAj8CyQFmAfgBFgLqAZsC7wJvAvEBMgK2AlgDZAICAi4C1gHaAckBJQOcAxQDFAN5AiQCMwMHA5QCTgMpAyQCmwISBIYCiAErAkMCwAIpA+YDLAPFAUYCvALJAWoBuAHJAScC9QHTAQgBmACSAVkBsQHnAWgC9gICAq4B+AFaAp4ChgKPAU0CHwNhAnwCBAPIA1gDNgPtA5UDMAPcA0QDOAJXAp4CvAKIAT4B6gGuAbAAQQGIAfMATwFxAcMCYgOEA30DPQPLAxQDXAMqBBIECgXoBEkE/ATBA3wC+QJmAxEDmwL2AhQDowMOA4MC6AIzAx8D7AIdBMIEeASIA/MCMwPIAwcD5QJsA/kCcAO+A60DjgOjA0wEGQRmA1oEJwRAA7cDbgSdBKcEpARXBccFVwWKBbMFrAUoBaEE2gR5BWUFrAXRBaEEggRHBUcF1wSaBIoFbAWdBJsFRwW1BJYEnQSHBYYESgXwBSgFYwZIBvoFLQZuBDEECgVkBLYFXAY0BhwGCgUDBVUGTwbaBNEFOgYlBf4DAwXRBeIFAQa/BI4FrQZhBy4HjwbMBvUGyQaMBmQHzAYUBZEFKAVABTcGIwYSBsYEEAUIBjkFvwR5BcQFhwXGBOAD9QSRBQEG4gXLBXsGzgVtBvcFaAU3BhsFwAUcBqIFvQUXBR4FSgVUBZsFBAZXBY4FTwZ2BYAFjgWzBZQFzQQ2BUcFDQVHBV4F4QQlBZMEdQSJBDgENAT0A78ErAVvBSAEbgSMBJYEbAWYBTwFlgT+A6sE6QWdBHkFpQXSA2QEJwSiBSYGmwVIBnUEcQS8BBIEvATkBOYDQAOdBNME2QNRAwADSQQvBWQETwTNBDsEiwOjAzADkAKQAuICHwPnAY8BPAIuArkC+QJYAxYETQUNBSMEkwR7BDEEwgRsBdwFbQYaB/sGGAZqBjQGSgXTBA8EagSIA2ID0wSTBG4EyQRaBNAEHgX5BIoFyQSkBP8EnwV2BfIE/AQEBl8IDgiFBmAGiAbsBXkFMAYtBisFZAShBCoEbAPPAycESgWkBPED8gSyBPkEigVvBS8FZASJBL8EFgSdBA==\" type=\"audio/wav\" />\n",
       "                    Your browser does not support the audio element.\n",
       "                </audio>\n",
       "              "
      ],
      "text/plain": [
       "<IPython.lib.display.Audio object>"
      ]
     },
     "execution_count": 12,
     "metadata": {},
     "output_type": "execute_result"
    }
   ],
   "source": [
    "audio=Audio(data=data,rate=samplerate,autoplay=False)\n",
    "audio"
   ]
  },
  {
   "cell_type": "markdown",
   "id": "460afa2a",
   "metadata": {},
   "source": [
    "Simple function to display a spectrogram. It is adapted from a SciPy example."
   ]
  },
  {
   "cell_type": "code",
   "execution_count": 13,
   "id": "8cd9c83f",
   "metadata": {},
   "outputs": [],
   "source": [
    "def get_spectrogram(waveform,fs):\n",
    "    # Zero-padding for an audio waveform with less than 16,000 samples.\n",
    "    input_len = 16000\n",
    "    waveform = waveform[:input_len]\n",
    "    zero_padding = np.zeros(\n",
    "      16000 - waveform.shape[0],\n",
    "      dtype=np.float32)\n",
    "    mmax=np.max(np.abs(waveform))\n",
    "    \n",
    "    equal_length = np.hstack([waveform, zero_padding])\n",
    "    f, t, Zxx = scipy.signal.stft(equal_length, fs, nperseg=1000)\n",
    "    plt.pcolormesh(t, f, np.abs(Zxx), vmin=0, vmax=mmax/100, shading='gouraud')\n",
    "    plt.title('STFT Magnitude')\n",
    "    plt.ylabel('Frequency [Hz]')\n",
    "    plt.xlabel('Time [sec]')\n",
    "    plt.show()"
   ]
  },
  {
   "cell_type": "code",
   "execution_count": 14,
   "id": "92eca740",
   "metadata": {},
   "outputs": [
    {
     "data": {
      "image/png": "[encoded data removed]",
      "text/plain": [
       "<Figure size 432x288 with 1 Axes>"
      ]
     },
     "metadata": {
      "needs_background": "light"
     },
     "output_type": "display_data"
    }
   ],
   "source": [
    "get_spectrogram(data,16000)"
   ]
  },
  {
   "cell_type": "markdown",
   "id": "03037e1b",
   "metadata": {},
   "source": [
    "Display of the feature to compare with the spectrogram."
   ]
  },
  {
   "cell_type": "code",
   "execution_count": 15,
   "id": "c55f0d03",
   "metadata": {},
   "outputs": [
    {
     "data": {
      "image/png": "[encoded data removed]",
      "text/plain": [
       "<Figure size 432x288 with 1 Axes>"
      ]
     },
     "metadata": {
      "needs_background": "light"
     },
     "output_type": "display_data"
    }
   ],
   "source": [
    "feat=feature(data)\n",
    "plt.plot(feat)\n",
    "plt.show()"
   ]
  },
  {
   "cell_type": "markdown",
   "id": "8b798aea",
   "metadata": {},
   "source": [
    "## Patterns for training\n",
    "\n",
    "Now we generate the arrays needed to train and test the model.\n",
    "We have an array of feature : X_array.\n",
    "An array of label ID : y\n",
    "\n",
    "and similar arrays for the tests."
   ]
  },
  {
   "cell_type": "code",
   "execution_count": 16,
   "id": "647ecb32",
   "metadata": {},
   "outputs": [
    {
     "data": {
      "text/plain": [
       "(1600, 98)"
      ]
     },
     "execution_count": 16,
     "metadata": {},
     "output_type": "execute_result"
    }
   ],
   "source": [
    "X=np.array([x.feature for x in train_patterns])\n",
    "X.shape"
   ]
  },
  {
   "cell_type": "code",
   "execution_count": 17,
   "id": "2603ecb9",
   "metadata": {},
   "outputs": [
    {
     "data": {
      "text/plain": [
       "(1600,)"
      ]
     },
     "execution_count": 17,
     "metadata": {},
     "output_type": "execute_result"
    }
   ],
   "source": [
    "y=np.array([x.label for x in train_patterns])\n",
    "y.shape"
   ]
  },
  {
   "cell_type": "code",
   "execution_count": 18,
   "id": "658b7553",
   "metadata": {},
   "outputs": [],
   "source": [
    "y_test = [x.label for x in test_patterns]\n",
    "X_test = [x.feature for x in test_patterns]"
   ]
  },
  {
   "cell_type": "markdown",
   "id": "79909063",
   "metadata": {},
   "source": [
    "## Logistic Regression\n",
    "\n",
    "We have chosen to use a simple logistic regression. We are doing a randomized search on the hyperparameter space."
   ]
  },
  {
   "cell_type": "code",
   "execution_count": 19,
   "id": "e1fdf0ef",
   "metadata": {},
   "outputs": [],
   "source": [
    "distributionsb = dict(C=uniform(loc=1, scale=1000)\n",
    "                    )\n",
    "reg = LogisticRegression(penalty=\"l1\", solver=\"saga\", tol=0.1)\n",
    "clfb=RandomizedSearchCV(reg, distributionsb,random_state=0,n_iter=50).fit(X, y)"
   ]
  },
  {
   "cell_type": "markdown",
   "id": "bca2dabd",
   "metadata": {},
   "source": [
    "We are using the best estimator found during the randomized search:"
   ]
  },
  {
   "cell_type": "code",
   "execution_count": 20,
   "id": "fddd7782",
   "metadata": {},
   "outputs": [
    {
     "data": {
      "text/plain": [
       "LogisticRegression(C=682.8202991034834, penalty='l1', solver='saga', tol=0.1)"
      ]
     },
     "execution_count": 20,
     "metadata": {},
     "output_type": "execute_result"
    }
   ],
   "source": [
    "clfb.best_estimator_"
   ]
  },
  {
   "cell_type": "markdown",
   "id": "6a7ffeb1",
   "metadata": {},
   "source": [
    "The confusion matrix is generated from the test patterns to check the behavior of the classifier:"
   ]
  },
  {
   "cell_type": "code",
   "execution_count": 21,
   "id": "eb6facde",
   "metadata": {},
   "outputs": [
    {
     "data": {
      "text/plain": [
       "<sklearn.metrics._plot.confusion_matrix.ConfusionMatrixDisplay at 0x2457342cb80>"
      ]
     },
     "execution_count": 21,
     "metadata": {},
     "output_type": "execute_result"
    },
    {
     "data": {
      "image/png": "[encoded data removed]",
      "text/plain": [
       "<Figure size 432x288 with 2 Axes>"
      ]
     },
     "metadata": {
      "needs_background": "light"
     },
     "output_type": "display_data"
    }
   ],
   "source": [
    "y_pred = clfb.predict(X_test)\n",
    "labels=[\"Unknown\"] + to_keep\n",
    "ConfusionMatrixDisplay.from_predictions(y_test, y_pred,display_labels=labels)"
   ]
  },
  {
   "cell_type": "markdown",
   "id": "76b17c7d",
   "metadata": {},
   "source": [
    "We compute the final score. 0.8 is really the minimum acceptable value for this kind of demo.\n",
    "With the zcr feature, if you try to detect `Yes`, `No`, `Unknown`, you'll get a score of around 0.6 which is very bad."
   ]
  },
  {
   "cell_type": "code",
   "execution_count": 22,
   "id": "de8460b1",
   "metadata": {},
   "outputs": [
    {
     "data": {
      "text/plain": [
       "0.83"
      ]
     },
     "execution_count": 22,
     "metadata": {},
     "output_type": "execute_result"
    }
   ],
   "source": [
    "clfb.score(X_test, y_test)"
   ]
  },
  {
   "cell_type": "markdown",
   "id": "9ba6739f",
   "metadata": {},
   "source": [
    "We can now save the model so that next time we want to play with the notebook and test the CMSIS-DSP implementation we do not have to retrain the model:"
   ]
  },
  {
   "cell_type": "code",
   "execution_count": 23,
   "id": "ea4ae8f8",
   "metadata": {},
   "outputs": [],
   "source": [
    "with open(\"logistic.pickle\",\"wb\") as f:\n",
    "    s = pickle.dump(clfb,f)"
   ]
  },
  {
   "cell_type": "markdown",
   "id": "aab3aaf2",
   "metadata": {},
   "source": [
    "And we can reload the saved model:"
   ]
  },
  {
   "cell_type": "code",
   "execution_count": 197,
   "id": "c4811945",
   "metadata": {},
   "outputs": [],
   "source": [
    "with open(\"logistic.pickle\",\"rb\") as f:\n",
    "    clfb=pickle.load(f)"
   ]
  },
  {
   "cell_type": "markdown",
   "id": "a9c1ef1b",
   "metadata": {},
   "source": [
    "## Reference implementation with Matrix"
   ]
  },
  {
   "cell_type": "markdown",
   "id": "ef865bc5",
   "metadata": {},
   "source": [
    "This is the reference implementation which will be used to build the CMSIS-DSP implementation. We are no more using the scikit-learn predict function instead we are using an implementation of predict using linear algebra. It should give the same results."
   ]
  },
  {
   "cell_type": "code",
   "execution_count": 24,
   "id": "f6e861cf",
   "metadata": {},
   "outputs": [],
   "source": [
    "def predict(feat):\n",
    "    coef=clfb.best_estimator_.coef_\n",
    "    intercept=clfb.best_estimator_.intercept_\n",
    "    \n",
    "    res=np.dot(coef,feat) + intercept\n",
    "    \n",
    "    if res<0:\n",
    "        return(-1)\n",
    "    else:\n",
    "        return(0)"
   ]
  },
  {
   "cell_type": "markdown",
   "id": "918afd57",
   "metadata": {},
   "source": [
    "And like in the code above with scikit-learn, we are checking the result with the confusion matrix and the score. It should give the same results:"
   ]
  },
  {
   "cell_type": "code",
   "execution_count": 25,
   "id": "66e69345",
   "metadata": {},
   "outputs": [
    {
     "data": {
      "text/plain": [
       "<sklearn.metrics._plot.confusion_matrix.ConfusionMatrixDisplay at 0x24575807190>"
      ]
     },
     "execution_count": 25,
     "metadata": {},
     "output_type": "execute_result"
    },
    {
     "data": {
      "image/png": "[encoded data removed]",
      "text/plain": [
       "<Figure size 432x288 with 2 Axes>"
      ]
     },
     "metadata": {
      "needs_background": "light"
     },
     "output_type": "display_data"
    }
   ],
   "source": [
    "y_pred_ref = [predict(x) for x in X_test]\n",
    "labels=[\"Unknown\"] + to_keep\n",
    "ConfusionMatrixDisplay.from_predictions(y_test, y_pred_ref,display_labels=labels)"
   ]
  },
  {
   "cell_type": "code",
   "execution_count": 26,
   "id": "887d714a",
   "metadata": {},
   "outputs": [
    {
     "data": {
      "text/plain": [
       "0.83"
      ]
     },
     "execution_count": 26,
     "metadata": {},
     "output_type": "execute_result"
    }
   ],
   "source": [
    "np.count_nonzero(np.equal(y_test,y_pred_ref))/len(y_test)"
   ]
  },
  {
   "cell_type": "markdown",
   "id": "6bbd0d3b",
   "metadata": {},
   "source": [
    "## CMSIS-DSP implementation\n",
    "\n",
    "Now we are ready to implement the code using CMSIS-DSP API. Once we have a running implementation in Python, writing the C code will be easy since the API is the same.\n",
    "\n",
    "We are testing 3 implementations here : F32, Q31 and Q15.\n",
    "At the end, we will check that Q15 is giving good enough results and thus can be implemented in C for the Arduino."
   ]
  },
  {
   "cell_type": "markdown",
   "id": "a801479c",
   "metadata": {},
   "source": [
    "### F32 Implementation\n",
    "\n",
    "It will be very similar to the implemenattion above with matrix but will instead use the CMSIS-DSP API."
   ]
  },
  {
   "cell_type": "code",
   "execution_count": 27,
   "id": "d861ee1c",
   "metadata": {},
   "outputs": [],
   "source": [
    "coef_f32=clfb.best_estimator_.coef_\n",
    "intercept_f32=clfb.best_estimator_.intercept_"
   ]
  },
  {
   "cell_type": "code",
   "execution_count": 28,
   "id": "1e50c5b1",
   "metadata": {},
   "outputs": [],
   "source": [
    "def dsp_zcr(w):\n",
    "    m = dsp.arm_mean_f32(w)\n",
    "    m = -m\n",
    "    w = dsp.arm_offset_f32(w,m)\n",
    "    f=w[:-1]\n",
    "    g=w[1:]\n",
    "    k=np.count_nonzero(np.logical_and(f*g<0, g>f))\n",
    "    return(1.0*k/len(f))"
   ]
  },
  {
   "cell_type": "markdown",
   "id": "fa0b092d",
   "metadata": {},
   "source": [
    "For the FIR, CMSIS-DSP is using a FIR instance structure and thus we need to define it"
   ]
  },
  {
   "cell_type": "code",
   "execution_count": 29,
   "id": "3313b384",
   "metadata": {},
   "outputs": [],
   "source": [
    "firf32 = dsp.arm_fir_instance_f32()"
   ]
  },
  {
   "cell_type": "code",
   "execution_count": 30,
   "id": "480631ce",
   "metadata": {},
   "outputs": [],
   "source": [
    "def dsp_feature(data):\n",
    "    samplerate=16000\n",
    "    input_len = 16000\n",
    "    \n",
    "    waveform = data[:input_len]\n",
    "    \n",
    "    zero_padding = np.zeros(\n",
    "      16000 - waveform.shape[0],\n",
    "      dtype=np.float32)\n",
    "   \n",
    "   \n",
    "    signal = np.hstack([waveform, zero_padding])\n",
    "    \n",
    "    \n",
    "    winDuration=25e-3\n",
    "    audioOffsetDuration=10e-3\n",
    "    winLength=int(np.floor(samplerate*winDuration))\n",
    "    audioOffset=int(np.floor(samplerate*audioOffsetDuration))\n",
    "    overlap=winLength -audioOffset\n",
    "    window=hann(winLength,sym=False)\n",
    "    reta=[dsp_zcr(dsp.arm_mult_f32(x,window)) for x in sliding_window_view(signal,winLength)[::audioOffset,:]]\n",
    "    \n",
    "    # Reset state and filter\n",
    "    # We want to start with a clean filter each time we filter a new feature.\n",
    "    # So the filter state is reset each time.\n",
    "    blockSize=98\n",
    "    numTaps=10\n",
    "    stateLength = numTaps + blockSize - 1\n",
    "    dsp.arm_fir_init_f32(firf32,10,np.ones(10)/10.0,np.zeros(stateLength))\n",
    "    reta=dsp.arm_fir_f32(firf32,reta)\n",
    "    return(np.array(reta))"
   ]
  },
  {
   "cell_type": "markdown",
   "id": "4d683590",
   "metadata": {},
   "source": [
    "Let's check that the feature is giving the same result as the reference implemenattion using linear algebra."
   ]
  },
  {
   "cell_type": "code",
   "execution_count": 31,
   "id": "1b926a1a",
   "metadata": {},
   "outputs": [
    {
     "data": {
      "image/png": "[encoded data removed]",
      "text/plain": [
       "<Figure size 432x288 with 1 Axes>"
      ]
     },
     "metadata": {
      "needs_background": "light"
     },
     "output_type": "display_data"
    }
   ],
   "source": [
    "feat=dsp_feature(data)\n",
    "plt.plot(feat)\n",
    "plt.show()"
   ]
  },
  {
   "cell_type": "markdown",
   "id": "f894f1f0",
   "metadata": {},
   "source": [
    "The feature code is working, so now we can implement the predict:"
   ]
  },
  {
   "cell_type": "code",
   "execution_count": 32,
   "id": "a67a5b5b",
   "metadata": {},
   "outputs": [],
   "source": [
    "def dsp_predict(feat):\n",
    "    \n",
    "    res=dsp.arm_dot_prod_f32(coef_f32,feat)\n",
    "    res = res + intercept_f32\n",
    "    \n",
    "    if res[0]<0:\n",
    "        return(-1)\n",
    "    else:\n",
    "        return(0)"
   ]
  },
  {
   "cell_type": "markdown",
   "id": "fccb1c17",
   "metadata": {},
   "source": [
    "And finally we can check the CMSIS-DSP behavior of the test patterns:"
   ]
  },
  {
   "cell_type": "code",
   "execution_count": 33,
   "id": "84bac863",
   "metadata": {},
   "outputs": [
    {
     "data": {
      "text/plain": [
       "<sklearn.metrics._plot.confusion_matrix.ConfusionMatrixDisplay at 0x2457340b6d0>"
      ]
     },
     "execution_count": 33,
     "metadata": {},
     "output_type": "execute_result"
    },
    {
     "data": {
      "image/png": "[encoded data removed]",
      "text/plain": [
       "<Figure size 432x288 with 2 Axes>"
      ]
     },
     "metadata": {
      "needs_background": "light"
     },
     "output_type": "display_data"
    }
   ],
   "source": [
    "y_pred_ref = [dsp_predict(dsp_feature(x.signal)) for x in test_patterns]\n",
    "labels=[\"Unknown\"] + to_keep\n",
    "ConfusionMatrixDisplay.from_predictions(y_test, y_pred_ref,display_labels=labels)"
   ]
  },
  {
   "cell_type": "code",
   "execution_count": 34,
   "id": "bf0a23d9",
   "metadata": {},
   "outputs": [
    {
     "data": {
      "text/plain": [
       "0.83"
      ]
     },
     "execution_count": 34,
     "metadata": {},
     "output_type": "execute_result"
    }
   ],
   "source": [
    "np.count_nonzero(np.equal(y_test,y_pred_ref))/len(y_test)"
   ]
  },
  {
   "cell_type": "markdown",
   "id": "0a80b698",
   "metadata": {},
   "source": [
    "We are getting very similar results to the reference implementation. Now let's explore fixed point."
   ]
  },
  {
   "cell_type": "markdown",
   "id": "f3bcc892",
   "metadata": {},
   "source": [
    "### Q31 implementation\n",
    "\n",
    "First thing to do is to convert the F32 values of the ML mode into Q31.\n",
    "But we need values in [-1,1]. So we rescale those values and keep track of the shift required to restore the original value.\n",
    "\n",
    "Then, we convert those rescaled values to Q31."
   ]
  },
  {
   "cell_type": "code",
   "execution_count": 35,
   "id": "beb7e364",
   "metadata": {},
   "outputs": [],
   "source": [
    "scaled_coef=clfb.best_estimator_.coef_ \n",
    "coef_shift=0\n",
    "while np.max(np.abs(scaled_coef)) > 1:\n",
    "    scaled_coef = scaled_coef / 2.0 \n",
    "    coef_shift = coef_shift + 1\n",
    "\n",
    "coef_q31=fix.toQ31(scaled_coef)\n",
    "\n",
    "scaled_intercept = clfb.best_estimator_.intercept_ \n",
    "intercept_shift = 0\n",
    "while np.abs(scaled_intercept) > 1:\n",
    "    scaled_intercept = scaled_intercept / 2.0 \n",
    "    intercept_shift = intercept_shift + 1\n",
    "    \n",
    "intercept_q31=fix.toQ31(scaled_intercept)"
   ]
  },
  {
   "cell_type": "markdown",
   "id": "ed1cbb2c",
   "metadata": {},
   "source": [
    "Now we can implement the zcr and feature in Q31."
   ]
  },
  {
   "cell_type": "code",
   "execution_count": 36,
   "id": "7a64829c",
   "metadata": {},
   "outputs": [],
   "source": [
    "def dsp_zcr_q31(w):\n",
    "    m = dsp.arm_mean_q31(w)\n",
    "    # Negate can saturate so we use CMSIS-DSP function which is working on array (and we have a scalar)\n",
    "    m = dsp.arm_negate_q31(np.array([m]))[0]\n",
    "    w = dsp.arm_offset_q31(w,m)\n",
    "    \n",
    "    f=w[:-1]\n",
    "    g=w[1:]\n",
    "    k=np.count_nonzero(np.logical_and(np.logical_or(np.logical_and(f>0,g<0), np.logical_and(f<0,g>0)),g>f))\n",
    "    \n",
    "    # k < len(f) so shift should be 0 except when k == len(f)\n",
    "    # When k==len(f) normally quotient is 0x40000000 and shift 1 and we convert\n",
    "    # this to 0x7FFFFFF and shift 0\n",
    "    status,quotient,shift_val=dsp.arm_divide_q31(k,len(f))\n",
    "    if shift_val==1:\n",
    "        return(dsp.arm_shift_q31(np.array([quotient]),shift)[0])\n",
    "    else:\n",
    "        return(quotient)"
   ]
  },
  {
   "cell_type": "code",
   "execution_count": 37,
   "id": "2aac9a63",
   "metadata": {},
   "outputs": [],
   "source": [
    "firq31 = dsp.arm_fir_instance_q31()"
   ]
  },
  {
   "cell_type": "code",
   "execution_count": 38,
   "id": "a65003af",
   "metadata": {},
   "outputs": [],
   "source": [
    "def dsp_feature_q31(data):\n",
    "    samplerate=16000\n",
    "    input_len = 16000\n",
    "    \n",
    "    waveform = data[:input_len]\n",
    "    \n",
    "    zero_padding = np.zeros(\n",
    "      16000 - waveform.shape[0],\n",
    "      dtype=np.int32)\n",
    "   \n",
    "   \n",
    "    signal = np.hstack([waveform, zero_padding])\n",
    "    \n",
    "    \n",
    "    winDuration=25e-3\n",
    "    audioOffsetDuration=10e-3\n",
    "    winLength=int(np.floor(samplerate*winDuration))\n",
    "    audioOffset=int(np.floor(samplerate*audioOffsetDuration))\n",
    "    overlap=winLength-audioOffset\n",
    "    \n",
    "    window=fix.toQ31(hann(winLength,sym=False))\n",
    "    reta=[dsp_zcr_q31(dsp.arm_mult_q31(x,window)) for x in sliding_window_view(signal,winLength)[::audioOffset,:]]\n",
    "    \n",
    "    # Reset state and filter\n",
    "    blockSize=98\n",
    "    numTaps=10\n",
    "    stateLength = numTaps + blockSize - 1\n",
    "    dsp.arm_fir_init_q31(firq31,10,fix.toQ31(np.ones(10)/10.0),np.zeros(stateLength,dtype=np.int32))\n",
    "    reta=dsp.arm_fir_q31(firq31,reta)\n",
    "    return(np.array(reta))"
   ]
  },
  {
   "cell_type": "markdown",
   "id": "e63b0ceb",
   "metadata": {},
   "source": [
    "Let's check the feature on the data to compare with the F32 version and check it is working:"
   ]
  },
  {
   "cell_type": "code",
   "execution_count": 39,
   "id": "d59c2442",
   "metadata": {},
   "outputs": [
    {
     "data": {
      "image/png": "[encoded data removed]",
      "text/plain": [
       "<Figure size 432x288 with 1 Axes>"
      ]
     },
     "metadata": {
      "needs_background": "light"
     },
     "output_type": "display_data"
    }
   ],
   "source": [
    "feat=fix.Q31toF32(dsp_feature_q31(fix.toQ31(data)))\n",
    "plt.plot(feat)\n",
    "plt.show()"
   ]
  },
  {
   "cell_type": "markdown",
   "id": "ccd39f92",
   "metadata": {},
   "source": [
    "The Q31 feature is very similar to the F32 one so now we can implement the predict:"
   ]
  },
  {
   "cell_type": "code",
   "execution_count": 40,
   "id": "0df93150",
   "metadata": {},
   "outputs": [],
   "source": [
    "def dsp_predict_q31(feat):\n",
    "    \n",
    "    res=dsp.arm_dot_prod_q31(coef_q31,feat)\n",
    "    \n",
    "    # Before adding the res and the intercept we need to ensure they are in the same Qx.x format\n",
    "    # The scaling applied to the coefs and to the intercept is different so we need to scale\n",
    "    # the intercept to take this into account\n",
    "    scaled=dsp.arm_shift_q31(np.array([intercept_q31]),intercept_shift-coef_shift)[0]\n",
    "    # Because dot prod output is in Q16.48\n",
    "    # and ret is on 64 bits\n",
    "    scaled = np.int64(scaled) << 17 \n",
    "    \n",
    "    res = res + scaled\n",
    "    \n",
    "   \n",
    "    \n",
    "    if res<0:\n",
    "        return(-1)\n",
    "    else:\n",
    "        return(0)"
   ]
  },
  {
   "cell_type": "markdown",
   "id": "8691cb89",
   "metadata": {},
   "source": [
    "Now we can check the Q31 implementation on the test patterns:"
   ]
  },
  {
   "cell_type": "code",
   "execution_count": 41,
   "id": "7f8787ac",
   "metadata": {},
   "outputs": [
    {
     "data": {
      "text/plain": [
       "<sklearn.metrics._plot.confusion_matrix.ConfusionMatrixDisplay at 0x245733de5f0>"
      ]
     },
     "execution_count": 41,
     "metadata": {},
     "output_type": "execute_result"
    },
    {
     "data": {
      "image/png": "[encoded data removed]",
      "text/plain": [
       "<Figure size 432x288 with 2 Axes>"
      ]
     },
     "metadata": {
      "needs_background": "light"
     },
     "output_type": "display_data"
    }
   ],
   "source": [
    "y_pred_ref = [dsp_predict_q31(dsp_feature_q31(fix.toQ31(x.signal))) for x in test_patterns]\n",
    "labels=[\"Unknown\"] + to_keep\n",
    "ConfusionMatrixDisplay.from_predictions(y_test, y_pred_ref,display_labels=labels)"
   ]
  },
  {
   "cell_type": "code",
   "execution_count": 42,
   "id": "500da0b5",
   "metadata": {},
   "outputs": [
    {
     "data": {
      "text/plain": [
       "0.8225"
      ]
     },
     "execution_count": 42,
     "metadata": {},
     "output_type": "execute_result"
    }
   ],
   "source": [
    "np.count_nonzero(np.equal(y_test,y_pred_ref))/len(y_test)"
   ]
  },
  {
   "cell_type": "markdown",
   "id": "e4cb5d66",
   "metadata": {},
   "source": [
    "The score is as good as the F32 implementation."
   ]
  },
  {
   "cell_type": "markdown",
   "id": "22e5033e",
   "metadata": {},
   "source": [
    "### Q15 Implementation\n",
    "\n",
    "It is the same as Q31 but using Q15 functions."
   ]
  },
  {
   "cell_type": "code",
   "execution_count": 43,
   "id": "cf7674a2",
   "metadata": {},
   "outputs": [],
   "source": [
    "scaled_coef=clfb.best_estimator_.coef_ \n",
    "coef_shift=0\n",
    "while np.max(np.abs(scaled_coef)) > 1:\n",
    "    scaled_coef = scaled_coef / 2.0 \n",
    "    coef_shift = coef_shift + 1\n",
    "\n",
    "coef_q15=fix.toQ15(scaled_coef)\n",
    "\n",
    "scaled_intercept = clfb.best_estimator_.intercept_ \n",
    "intercept_shift = 0\n",
    "while np.abs(scaled_intercept) > 1:\n",
    "    scaled_intercept = scaled_intercept / 2.0 \n",
    "    intercept_shift = intercept_shift + 1\n",
    "    \n",
    "intercept_q15=fix.toQ15(scaled_intercept)"
   ]
  },
  {
   "cell_type": "code",
   "execution_count": 44,
   "id": "3e2258ca",
   "metadata": {},
   "outputs": [],
   "source": [
    "def dsp_zcr_q15(w):\n",
    "    m = dsp.arm_mean_q15(w)\n",
    "    # Negate can saturate so we use CMSIS-DSP function which is working on array (and we have a scalar)\n",
    "    m = dsp.arm_negate_q15(np.array([m]))[0]\n",
    "    w = dsp.arm_offset_q15(w,m)\n",
    "    \n",
    "    f=w[:-1]\n",
    "    g=w[1:]\n",
    "    k=np.count_nonzero(np.logical_and(np.logical_or(np.logical_and(f>0,g<0), np.logical_and(f<0,g>0)),g>f))\n",
    "    \n",
    "    # k < len(f) so shift should be 0 except when k == len(f)\n",
    "    # When k==len(f) normally quotient is 0x4000 and shift 1 and we convert\n",
    "    # this to 0x7FFF and shift 0\n",
    "    status,quotient,shift_val=dsp.arm_divide_q15(k,len(f))\n",
    "    if shift_val==1:\n",
    "        return(dsp.arm_shift_q15(np.array([quotient]),shift)[0])\n",
    "    else:\n",
    "        return(quotient)"
   ]
  },
  {
   "cell_type": "code",
   "execution_count": 45,
   "id": "345c8f73",
   "metadata": {},
   "outputs": [],
   "source": [
    "firq15 = dsp.arm_fir_instance_q15()"
   ]
  },
  {
   "cell_type": "code",
   "execution_count": 46,
   "id": "6a974f45",
   "metadata": {},
   "outputs": [],
   "source": [
    "def dsp_feature_q15(data):\n",
    "    samplerate=16000\n",
    "    input_len = 16000\n",
    "    \n",
    "    waveform = data[:input_len]\n",
    "    \n",
    "    zero_padding = np.zeros(\n",
    "      16000 - waveform.shape[0],\n",
    "      dtype=np.int16)\n",
    "   \n",
    "   \n",
    "    signal = np.hstack([waveform, zero_padding])\n",
    "    \n",
    "    \n",
    "    winDuration=25e-3\n",
    "    audioOffsetDuration=10e-3\n",
    "    winLength=int(np.floor(samplerate*winDuration))\n",
    "    audioOffset=int(np.floor(samplerate*audioOffsetDuration))\n",
    "    overlap=winLength - audioOffset\n",
    "    \n",
    "    window=fix.toQ15(hann(winLength,sym=False))\n",
    "    reta=[dsp_zcr_q15(dsp.arm_mult_q15(x,window)) for x in sliding_window_view(signal,winLength)[::audioOffset,:]]\n",
    "    \n",
    "    # Reset state and filter\n",
    "    blockSize=98\n",
    "    numTaps=10\n",
    "    stateLength = numTaps + blockSize - 1\n",
    "    dsp.arm_fir_init_q15(firq15,10,fix.toQ15(np.ones(10)/10.0),np.zeros(stateLength,dtype=np.int16))\n",
    "    reta=dsp.arm_fir_q15(firq15,reta)\n",
    "    return(np.array(reta))"
   ]
  },
  {
   "cell_type": "code",
   "execution_count": 47,
   "id": "18a33368",
   "metadata": {},
   "outputs": [
    {
     "data": {
      "image/png": "[encoded data removed]",
      "text/plain": [
       "<Figure size 432x288 with 1 Axes>"
      ]
     },
     "metadata": {
      "needs_background": "light"
     },
     "output_type": "display_data"
    }
   ],
   "source": [
    "feat=fix.Q15toF32(dsp_feature_q15(fix.toQ15(data)))\n",
    "plt.plot(feat)\n",
    "plt.show()"
   ]
  },
  {
   "cell_type": "code",
   "execution_count": 48,
   "id": "9ad998ad",
   "metadata": {},
   "outputs": [],
   "source": [
    "def dsp_predict_q15(feat):\n",
    "    \n",
    "    res=dsp.arm_dot_prod_q15(coef_q15,feat)\n",
    "    \n",
    "    scaled=dsp.arm_shift_q15(np.array([intercept_q15]),intercept_shift-coef_shift)[0]\n",
    "    # Because dot prod output is in Q34.30\n",
    "    # and ret is on 64 bits\n",
    "    scaled = np.int64(scaled) << 15 \n",
    "    \n",
    "    res = res + scaled\n",
    "    \n",
    "   \n",
    "    \n",
    "    if res<0:\n",
    "        return(-1)\n",
    "    else:\n",
    "        return(0)"
   ]
  },
  {
   "cell_type": "code",
   "execution_count": 49,
   "id": "501be275",
   "metadata": {},
   "outputs": [
    {
     "data": {
      "text/plain": [
       "<sklearn.metrics._plot.confusion_matrix.ConfusionMatrixDisplay at 0x24575b54bb0>"
      ]
     },
     "execution_count": 49,
     "metadata": {},
     "output_type": "execute_result"
    },
    {
     "data": {
      "image/png": "[encoded data removed]",
      "text/plain": [
       "<Figure size 432x288 with 2 Axes>"
      ]
     },
     "metadata": {
      "needs_background": "light"
     },
     "output_type": "display_data"
    }
   ],
   "source": [
    "y_pred_ref = [dsp_predict_q15(dsp_feature_q15(fix.toQ15(x.signal))) for x in test_patterns]\n",
    "labels=[\"Unknown\"] + to_keep\n",
    "ConfusionMatrixDisplay.from_predictions(y_test, y_pred_ref,display_labels=labels)"
   ]
  },
  {
   "cell_type": "code",
   "execution_count": 50,
   "id": "511f5d36",
   "metadata": {},
   "outputs": [
    {
     "data": {
      "text/plain": [
       "0.8175"
      ]
     },
     "execution_count": 50,
     "metadata": {},
     "output_type": "execute_result"
    }
   ],
   "source": [
    "np.count_nonzero(np.equal(y_test,y_pred_ref))/len(y_test)"
   ]
  },
  {
   "cell_type": "markdown",
   "id": "7c1ce084",
   "metadata": {},
   "source": [
    "Q15 version is as good as other versions so we are selecting this implementation to run on the Arduino (once it has been converted to C)."
   ]
  },
  {
   "cell_type": "markdown",
   "id": "5c3fed6a",
   "metadata": {},
   "source": [
    "## Synchronous Data Flow\n",
    "\n",
    "We are receiving stream of samples but our functions are using buffers.\n",
    "We have sliding windows which make it more difficult to connect those functions together : we need FIFOs.\n",
    "\n",
    "So we are going to use the CMSIS-DSP Synchronous Data Flow framework to describe the compute graph, compute the FIFO lengths and generate a static schedule implementing the streaming computation."
   ]
  },
  {
   "cell_type": "code",
   "execution_count": 51,
   "id": "e17fecbb",
   "metadata": {},
   "outputs": [],
   "source": [
    "from cmsisdsp.sdf.scheduler import *"
   ]
  },
  {
   "cell_type": "markdown",
   "id": "b273e79c",
   "metadata": {},
   "source": [
    "To describe our compute graph, we need to describe the nodes which are used in this graph.\n",
    "Each node is described by its inputs and outputs. For each IO, we define the data type and the number of samples read or written on the IO.\n",
    "\n",
    "We need the following nodes in our system:\n",
    "* A source to get audio samples from the Arduino PDM driver\n",
    "* A Sink to generate the messages on the Arduino serial port\n",
    "* A feature node to compute the feature for a given window (and pre-multipliying with the Hann window)\n",
    "* A FIR node which is filtering all the features for one second of signal\n",
    "* A KWS node which is doing the logistic regression\n",
    "\n",
    "In addition to that we need sliding windows:\n",
    "* Like in the Python code above we need a sliding window for audio\n",
    "* After each recognition attempt on a segment of 1 second, we want to slide the recognition window by 0.5 seconds. It can be implemented with a sliding window on the features before the FIR"
   ]
  },
  {
   "cell_type": "code",
   "execution_count": 52,
   "id": "6dad5c54",
   "metadata": {},
   "outputs": [],
   "source": [
    "class Source(GenericSource):\n",
    "    def __init__(self,name,inLength):\n",
    "        GenericSource.__init__(self,name)\n",
    "        q15Type=CType(Q15)\n",
    "        self.addOutput(\"o\",q15Type,inLength)\n",
    "\n",
    "    @property\n",
    "    def typeName(self):\n",
    "        return \"Source\"\n",
    "    \n",
    "class Sink(GenericSink):\n",
    "    def __init__(self,name,outLength):\n",
    "        GenericSink.__init__(self,name)\n",
    "        q15Type=CType(Q15)\n",
    "        self.addInput(\"i\",q15Type,outLength)\n",
    "\n",
    "    @property\n",
    "    def typeName(self):\n",
    "        return \"Sink\"\n",
    "    \n",
    "class Feature(GenericNode):\n",
    "    def __init__(self,name,inLength):\n",
    "        GenericNode.__init__(self,name)\n",
    "\n",
    "        q15Type=CType(Q15)\n",
    "        self.addInput(\"i\",q15Type,inLength)\n",
    "        self.addOutput(\"o\",q15Type,1)\n",
    "\n",
    "    @property\n",
    "    def typeName(self):\n",
    "        return \"Feature\"\n",
    "    \n",
    "class FIR(GenericNode):\n",
    "    def __init__(self,name,inLength,outLength):\n",
    "        GenericNode.__init__(self,name)\n",
    "\n",
    "        q15Type=CType(Q15)\n",
    "        self.addInput(\"i\",q15Type,inLength)\n",
    "        self.addOutput(\"o\",q15Type,outLength)\n",
    "\n",
    "    @property\n",
    "    def typeName(self):\n",
    "        return \"FIR\"\n",
    "    \n",
    "class KWS(GenericNode):\n",
    "    def __init__(self,name,inLength):\n",
    "        GenericNode.__init__(self,name)\n",
    "\n",
    "        q15Type=CType(Q15)\n",
    "        self.addInput(\"i\",q15Type,inLength)\n",
    "        self.addOutput(\"o\",q15Type,1)\n",
    "\n",
    "    @property\n",
    "    def typeName(self):\n",
    "        return \"KWS\""
   ]
  },
  {
   "cell_type": "markdown",
   "id": "a07cf93a",
   "metadata": {},
   "source": [
    "We need some parameters. Those parameters need to be coherent with the values defined in the features in the above code.\n",
    "AUDIO_INTERRUPT_LENGTH is the audio length generated by the source. But it is not the audio length generated by th PDM driver on Arduino. The Arduino implementation of the Source is doing the adaptation as we will see below."
   ]
  },
  {
   "cell_type": "code",
   "execution_count": 53,
   "id": "c37f2dbe",
   "metadata": {},
   "outputs": [],
   "source": [
    "q15Type=CType(Q15)\n",
    "FS=16000\n",
    "winDuration=25e-3\n",
    "audioOffsetDuration=10e-3\n",
    "winLength=int(np.floor(FS*winDuration))\n",
    "audio_input_length=int(np.floor(FS*audioOffsetDuration))\n",
    "AUDIO_INTERRUPT_LENGTH = audio_input_length"
   ]
  },
  {
   "cell_type": "markdown",
   "id": "aa4ed03b",
   "metadata": {},
   "source": [
    "Below function is :\n",
    "* Defining the compute graph by connecting all the nodes\n",
    "* Generating a Python implementation of the compute graph and its scheduling\n",
    "* Generating a C++ implementation of the compute graph and its scheduling\n",
    "* Generating a graphviz description of the graph\n",
    "\n",
    "The feature length is hardcoded. So if the sliding window parameters are changed, you'll need to change the values for the FEATURE_LENGTH and FEATURE_OVERLAP."
   ]
  },
  {
   "cell_type": "code",
   "execution_count": 54,
   "id": "055749cc",
   "metadata": {},
   "outputs": [],
   "source": [
    "def gen_sched(python_code=True):\n",
    "    src=Source(\"src\",AUDIO_INTERRUPT_LENGTH)\n",
    "    # For Python code, the input is a numpy array which is passed\n",
    "    # as argument of the node\n",
    "    if python_code:\n",
    "        src.addVariableArg(\"input_array\")\n",
    "    sink=Sink(\"sink\",1)\n",
    "\n",
    "    feature=Feature(\"feature\",winLength)\n",
    "    feature.addVariableArg(\"window\")\n",
    "\n",
    "    sliding_audio=SlidingBuffer(\"audioWin\",q15Type,winLength,winLength-audio_input_length)\n",
    "\n",
    "\n",
    "    FEATURE_LENGTH=98 # for one second\n",
    "    FEATURE_OVERLAP = 49 # We slide feature by 0.5 second\n",
    "    sliding_feature=SlidingBuffer(\"featureWin\",q15Type,FEATURE_LENGTH,FEATURE_OVERLAP)\n",
    "    kws=KWS(\"kws\",FEATURE_LENGTH)\n",
    "    # Parameters of the ML model used by the node.\n",
    "    kws.addVariableArg(\"coef_q15\")\n",
    "    kws.addVariableArg(\"coef_shift\")\n",
    "    kws.addVariableArg(\"intercept_q15\")\n",
    "    kws.addVariableArg(\"intercept_shift\")\n",
    "\n",
    "    fir=FIR(\"fir\",FEATURE_LENGTH,FEATURE_LENGTH)\n",
    "\n",
    "\n",
    "\n",
    "    # Description of the compute graph\n",
    "    g = Graph()\n",
    "\n",
    "    g.connect(src.o, sliding_audio.i)\n",
    "    g.connect(sliding_audio.o, feature.i)\n",
    "    g.connect(feature.o, sliding_feature.i)\n",
    "    g.connect(sliding_feature.o, fir.i)\n",
    "    g.connect(fir.o, kws.i)\n",
    "    g.connect(kws.o, sink.i)\n",
    "\n",
    "  \n",
    "    # For Python we run for only around 13 seconds of input signal.\n",
    "    # Without this, it would run forever.\n",
    "    conf=Configuration()\n",
    "    if python_code:\n",
    "        conf.debugLimit=13\n",
    "    \n",
    "    # We compute the scheduling\n",
    "    sched = g.computeSchedule(conf)\n",
    "\n",
    "    print(\"Schedule length = %d\" % sched.scheduleLength)\n",
    "    print(\"Memory usage %d bytes\" % sched.memory)\n",
    "\n",
    "    # We generate the scheduling code for a Python and C++ implementations\n",
    "    if python_code:\n",
    "        conf.pyOptionalArgs=\"input_array,window,coef_q15,coef_shift,intercept_q15,intercept_shift\"\n",
    "        sched.pythoncode(\".\",config=conf)\n",
    "        with open(\"test.dot\",\"w\") as f:\n",
    "             sched.graphviz(f)\n",
    "    else:\n",
    "        conf.cOptionalArgs=\"\"\"const q15_t *window,\n",
    "        const q15_t *coef_q15,\n",
    "        const int coef_shift,\n",
    "        const q15_t intercept_q15,\n",
    "        const int intercept_shift\"\"\"\n",
    "        conf.memoryOptimization=True\n",
    "        # When schedule is long\n",
    "        conf.codeArray=True\n",
    "        sched.ccode(\"kws\",config=conf)\n",
    "        with open(\"kws/test.dot\",\"w\") as f:\n",
    "             sched.graphviz(f)"
   ]
  },
  {
   "cell_type": "markdown",
   "id": "8b80da54",
   "metadata": {},
   "source": [
    "Next line is generating `sched.py` which is the Python implementation of the compute graph and its static scheduling. This file is describing the FIFOs connecting the nodes and describing how the nodes are scheduled.\n",
    "\n",
    "You still need to provide an implementation of the nodes. It is available in `appnodes.py` and it is nearly a copy/paste of the Q15 implementation above.\n",
    "\n",
    "But it is simpler because the sliding window and the static schedule ensure that each node is run only when enough data is available. So a big part of the control logic has been removed from the nodes.\n",
    "\n",
    "`sched.py` is long because the static schedule is long and there are lots of function calls.. When we generate the C++ implementation, we are using an option which is using an array to describe the static schedule. It makes the C++ code much shorter. But having the sequence of function calls can be useful for debugging."
   ]
  },
  {
   "cell_type": "code",
   "execution_count": 55,
   "id": "b87a56ec",
   "metadata": {},
   "outputs": [
    {
     "name": "stdout",
     "output_type": "stream",
     "text": [
      "Schedule length = 151\n",
      "Memory usage 1612 bytes\n"
     ]
    }
   ],
   "source": [
    "gen_sched(True)"
   ]
  },
  {
   "cell_type": "markdown",
   "id": "f283fc12",
   "metadata": {},
   "source": [
    "Next line is generating the C++ schedule that we will need for the Arduino implementation : `kws/scheduler.cpp`"
   ]
  },
  {
   "cell_type": "code",
   "execution_count": 56,
   "id": "4875861f",
   "metadata": {},
   "outputs": [
    {
     "name": "stdout",
     "output_type": "stream",
     "text": [
      "Schedule length = 151\n",
      "Memory usage 1612 bytes\n"
     ]
    }
   ],
   "source": [
    "gen_sched(False)"
   ]
  },
  {
   "cell_type": "markdown",
   "id": "d8cc15da",
   "metadata": {},
   "source": [
    "Now we'd like to test the Q15 classifier and the static schedule on a real patterns.\n",
    "We are using the `Yes/No` pattern from our `VHT-SystemModeling` example.\n",
    "Below code is loading the pattern into a NumPy array."
   ]
  },
  {
   "cell_type": "code",
   "execution_count": 57,
   "id": "6f50ba6f",
   "metadata": {},
   "outputs": [],
   "source": [
    "from urllib.request import urlopen\n",
    "import io\n",
    "import soundfile as sf"
   ]
  },
  {
   "cell_type": "code",
   "execution_count": 58,
   "id": "47083054",
   "metadata": {},
   "outputs": [],
   "source": [
    "test_pattern_url=\"https://github.com/ARM-software/VHT-SystemModeling/blob/main/EchoCanceller/sounds/yesno.wav?raw=true\"\n",
    "f = urlopen(test_pattern_url)\n",
    "filedata = f.read()\n",
    "data, samplerate = sf.read(io.BytesIO(filedata))\n",
    "if len(data.shape)>1:\n",
    "    data=data[:,0]"
   ]
  },
  {
   "cell_type": "markdown",
   "id": "c63c7749",
   "metadata": {},
   "source": [
    "Let's plot the signal to check we have the right one:"
   ]
  },
  {
   "cell_type": "code",
   "execution_count": 59,
   "id": "188670c1",
   "metadata": {},
   "outputs": [
    {
     "data": {
      "image/png": "[encoded data removed]",
      "text/plain": [
       "<Figure size 432x288 with 1 Axes>"
      ]
     },
     "metadata": {
      "needs_background": "light"
     },
     "output_type": "display_data"
    }
   ],
   "source": [
    "plt.plot(data)\n",
    "plt.show()"
   ]
  },
  {
   "cell_type": "markdown",
   "id": "3409e71e",
   "metadata": {},
   "source": [
    "Now we can run our static schedule on this file.\n",
    "The reload function are needed when debugging (or implementing) the `appnodes.py`. Without this, the package would not be reloaded in the notebook.\n",
    "\n",
    "This code needs some variables evaluated in the Q15 estimator code above."
   ]
  },
  {
   "cell_type": "code",
   "execution_count": 60,
   "id": "a3a624a0",
   "metadata": {
    "scrolled": true
   },
   "outputs": [
    {
     "name": "stdout",
     "output_type": "stream",
     "text": [
      "Yes\n",
      "Unknown\n",
      "Yes\n",
      "Yes\n",
      "Yes\n",
      "Unknown\n",
      "Yes\n",
      "Yes\n",
      "Unknown\n",
      "Yes\n",
      "Unknown\n",
      "Yes\n",
      "Unknown\n"
     ]
    }
   ],
   "source": [
    "import sched as s \n",
    "from importlib import reload\n",
    "import appnodes \n",
    "\n",
    "appnodes= reload(appnodes)\n",
    "\n",
    "s = reload(s)\n",
    "\n",
    "dataQ15=fix.toQ15(data)\n",
    "windowQ15=fix.toQ15(hann(winLength,sym=False))\n",
    "\n",
    "nb,error = s.scheduler(dataQ15,windowQ15,coef_q15,coef_shift,intercept_q15,intercept_shift)"
   ]
  },
  {
   "cell_type": "markdown",
   "id": "65d58b64",
   "metadata": {},
   "source": [
    "The code is working. We are getting more printed `Yes` than `Yes` in the pattern because we are sliding by 0.5 second between each recognition and the same word can be recognized several time.\n",
    "\n",
    "Now we are ready to implement the same on an Arduino.\n",
    "First we need to generate the parameters of the model. If you have saved the model, you can reload it with the code below:"
   ]
  },
  {
   "cell_type": "code",
   "execution_count": 61,
   "id": "ee7c58d5",
   "metadata": {},
   "outputs": [],
   "source": [
    "with open(\"logistic.pickle\",\"rb\") as f:\n",
    "    clfb=pickle.load(f)"
   ]
  },
  {
   "cell_type": "markdown",
   "id": "e600613d",
   "metadata": {},
   "source": [
    "Once the model is loaded, we extract the values and convert them to Q15:"
   ]
  },
  {
   "cell_type": "code",
   "execution_count": 62,
   "id": "cc3999d3",
   "metadata": {},
   "outputs": [],
   "source": [
    "scaled_coef=clfb.best_estimator_.coef_ \n",
    "coef_shift=0\n",
    "while np.max(np.abs(scaled_coef)) > 1:\n",
    "    scaled_coef = scaled_coef / 2.0 \n",
    "    coef_shift = coef_shift + 1\n",
    "\n",
    "coef_q15=fix.toQ15(scaled_coef)\n",
    "\n",
    "scaled_intercept = clfb.best_estimator_.intercept_ \n",
    "intercept_shift = 0\n",
    "while np.abs(scaled_intercept) > 1:\n",
    "    scaled_intercept = scaled_intercept / 2.0 \n",
    "    intercept_shift = intercept_shift + 1\n",
    "    \n",
    "intercept_q15=fix.toQ15(scaled_intercept)"
   ]
  },
  {
   "cell_type": "markdown",
   "id": "d35d8b49",
   "metadata": {},
   "source": [
    "Now we need to generate C arrays for the ML model parameters. Those parameters are generated into `kws/coef.cpp`"
   ]
  },
  {
   "cell_type": "code",
   "execution_count": 63,
   "id": "65618fee",
   "metadata": {},
   "outputs": [],
   "source": [
    "def carray(a):\n",
    "    s=\"{\"\n",
    "    k=0 \n",
    "    for x in a:\n",
    "        s = s + (\"%d,\" % (x,))\n",
    "        k = k + 1 \n",
    "        if k == 10:\n",
    "            k=0;\n",
    "            s = s + \"\\n\"\n",
    "    s = s + \"}\"\n",
    "    return(s)\n",
    "\n",
    "ccode=\"\"\"#include \"arm_math.h\"\n",
    "#include \"coef.h\"\n",
    "\n",
    "\n",
    "const q15_t fir_coefs[NUMTAPS]=%s;\n",
    "\n",
    "\n",
    "const q15_t coef_q15[%d]=%s;\n",
    "\n",
    "const q15_t intercept_q15 = %d;\n",
    "const int coef_shift=%d;\n",
    "const int intercept_shift=%d;\n",
    " \n",
    "const q15_t window[%d]=%s;\n",
    "\"\"\"\n",
    "\n",
    "def gen_coef_code():\n",
    "    fir_coef = carray(fix.toQ15(np.ones(10)/10.0))\n",
    "    winq15=carray(fix.toQ15(hann(winLength,sym=False)))\n",
    "    res = ccode % (fir_coef,\n",
    "                   len(coef_q15[0]),\n",
    "                   carray(coef_q15[0]),\n",
    "                   intercept_q15,\n",
    "                   coef_shift,\n",
    "                   intercept_shift,\n",
    "                   winLength,\n",
    "                   winq15\n",
    "                  )\n",
    "    \n",
    "    with open(os.path.join(\"kws\",\"coef.cpp\"),\"w\") as f:\n",
    "        print(res,file=f)\n",
    "        "
   ]
  },
  {
   "cell_type": "markdown",
   "id": "742406d2",
   "metadata": {},
   "source": [
    "Generation of the coef code:"
   ]
  },
  {
   "cell_type": "code",
   "execution_count": 64,
   "id": "2ee643d7",
   "metadata": {},
   "outputs": [],
   "source": [
    "gen_coef_code()"
   ]
  },
  {
   "cell_type": "markdown",
   "id": "fd7763f7",
   "metadata": {},
   "source": [
    "The implementation of the nodes is in `kws/AppNodes.h`. It is very similar to the `appnodes.py` but using the CMSIS-DSP C API.\n",
    "\n",
    "The C++ template are used only to minimize the overhead at runtime.\n"
   ]
  },
  {
   "cell_type": "markdown",
   "id": "6c92158e",
   "metadata": {},
   "source": [
    "## Arduino"
   ]
  },
  {
   "cell_type": "markdown",
   "id": "0e419afd",
   "metadata": {},
   "source": [
    "You need to have the arduino command line tools installed. And they need to be in your `PATH` so that the notebook can find the tool.\n",
    "We are using the Arduino Nano 33 BLE"
   ]
  },
  {
   "cell_type": "markdown",
   "id": "02896ac3",
   "metadata": {},
   "source": [
    "### Building and upload"
   ]
  },
  {
   "cell_type": "code",
   "execution_count": 73,
   "id": "41e89b2f",
   "metadata": {},
   "outputs": [
    {
     "name": "stdout",
     "output_type": "stream",
     "text": [
      "Port Protocol Type              Board Name          FQBN                        Core             \n",
      "COM3 serial   Serial Port       Unknown                                                          \n",
      "COM6 serial   Serial Port (USB) Arduino Nano 33 BLE arduino:mbed_nano:nano33ble arduino:mbed_nano\n",
      "\n"
     ]
    }
   ],
   "source": [
    "!arduino-cli board list"
   ]
  },
  {
   "cell_type": "code",
   "execution_count": 74,
   "id": "b44dbf60",
   "metadata": {},
   "outputs": [
    {
     "name": "stderr",
     "output_type": "stream",
     "text": [
      "Config file already exists, use --overwrite to discard the existing one.\n"
     ]
    }
   ],
   "source": [
    "!arduino-cli config init"
   ]
  },
  {
   "cell_type": "code",
   "execution_count": 75,
   "id": "06b3c20e",
   "metadata": {
    "scrolled": true
   },
   "outputs": [
    {
     "name": "stdout",
     "output_type": "stream",
     "text": [
      "Downloading Arduino_CMSIS-DSP@5.7.0...\n",
      "Arduino_CMSIS-DSP@5.7.0 already downloaded\n",
      "Installing Arduino_CMSIS-DSP@5.7.0...\n",
      "Already installed Arduino_CMSIS-DSP@5.7.0\n"
     ]
    }
   ],
   "source": [
    "!arduino-cli lib install Arduino_CMSIS-DSP"
   ]
  },
  {
   "cell_type": "markdown",
   "id": "5f5909ca",
   "metadata": {},
   "source": [
    "The first time the below command is executed, it will take a __very__ long time. The full CMSIS-DSP library has to be rebuilt for the Arduino."
   ]
  },
  {
   "cell_type": "code",
   "execution_count": 65,
   "id": "0ea363fc",
   "metadata": {},
   "outputs": [
    {
     "name": "stdout",
     "output_type": "stream",
     "text": [
      "Sketch uses 98272 bytes (9%) of program storage space. Maximum is 983040 bytes.\n",
      "Global variables use 46760 bytes (17%) of dynamic memory, leaving 215384 bytes for local variables. Maximum is 262144 bytes.\n",
      "\n"
     ]
    }
   ],
   "source": [
    "!arduino-cli compile -b arduino:mbed_nano:nano33ble kws"
   ]
  },
  {
   "cell_type": "code",
   "execution_count": 66,
   "id": "bd13af3d",
   "metadata": {},
   "outputs": [
    {
     "name": "stdout",
     "output_type": "stream",
     "text": [
      "Device       : nRF52840-QIAA\n",
      "Version      : Arduino Bootloader (SAM-BA extended) 2.0 [Arduino:IKXYZ]\n",
      "Address      : 0x0\n",
      "Pages        : 256\n",
      "Page Size    : 4096 bytes\n",
      "Total Size   : 1024KB\n",
      "Planes       : 1\n",
      "Lock Regions : 0\n",
      "Locked       : none\n",
      "Security     : false\n",
      "Erase flash\n",
      "\n",
      "Done in 0.001 seconds\n",
      "Write 98972 bytes to flash (25 pages)\n",
      "\n",
      "[                              ] 0% (0/25 pages)\n",
      "[=                             ] 4% (1/25 pages)\n",
      "[==                            ] 8% (2/25 pages)\n",
      "[===                           ] 12% (3/25 pages)\n",
      "[====                          ] 16% (4/25 pages)\n",
      "[======                        ] 20% (5/25 pages)\n",
      "[=======                       ] 24% (6/25 pages)\n",
      "[========                      ] 28% (7/25 pages)\n",
      "[=========                     ] 32% (8/25 pages)\n",
      "[==========                    ] 36% (9/25 pages)\n",
      "[============                  ] 40% (10/25 pages)\n",
      "[=============                 ] 44% (11/25 pages)\n",
      "[==============                ] 48% (12/25 pages)\n",
      "[===============               ] 52% (13/25 pages)\n",
      "[================              ] 56% (14/25 pages)\n",
      "[==================            ] 60% (15/25 pages)\n",
      "[===================           ] 64% (16/25 pages)\n",
      "[====================          ] 68% (17/25 pages)\n",
      "[=====================         ] 72% (18/25 pages)\n",
      "[======================        ] 76% (19/25 pages)\n",
      "[========================      ] 80% (20/25 pages)\n",
      "[=========================     ] 84% (21/25 pages)\n",
      "[==========================    ] 88% (22/25 pages)\n",
      "[===========================   ] 92% (23/25 pages)\n",
      "[============================  ] 96% (24/25 pages)\n",
      "[==============================] 100% (25/25 pages)\n",
      "Done in 4.110 seconds\n"
     ]
    }
   ],
   "source": [
    "!arduino-cli upload -b arduino:mbed_nano:nano33ble -p COM5 kws"
   ]
  },
  {
   "cell_type": "markdown",
   "id": "20eab198",
   "metadata": {},
   "source": [
    "### Testing\n",
    "\n",
    "Below code is connecting to the Arduino board an displaying the output in a cell.\n",
    "If you say `Yes` loudly enough (so not too far from the board) and if you don't have too much background noise in your room, then it should work.\n",
    "\n",
    "You need to install the `pyserial` python package"
   ]
  },
  {
   "cell_type": "code",
   "execution_count": 67,
   "id": "5a36492a",
   "metadata": {},
   "outputs": [],
   "source": [
    "import serial\n",
    "import ipywidgets as widgets\n",
    "import time\n",
    "import threading"
   ]
  },
  {
   "cell_type": "code",
   "execution_count": 68,
   "id": "7d55a8ed",
   "metadata": {},
   "outputs": [],
   "source": [
    "STOPSERIAL=False   \n",
    "def stop_action(btn):\n",
    "    global STOPSERIAL\n",
    "    STOPSERIAL=True\n",
    "    \n",
    "out = widgets.Output(layout={'border': '1px solid black','height':'40px'})\n",
    "button = widgets.Button(\n",
    "    description='Stop',\n",
    "    disabled=False,\n",
    "    button_style='', # 'success', 'info', 'warning', 'danger' or ''\n",
    "    tooltip='Click me'\n",
    ")\n",
    "button.on_click(stop_action)"
   ]
  },
  {
   "cell_type": "code",
   "execution_count": 69,
   "id": "ecabec72",
   "metadata": {},
   "outputs": [
    {
     "data": {
      "application/vnd.jupyter.widget-view+json": {
       "model_id": "1d06ab7d3efa41c38f51d9e9b626b40e",
       "version_major": 2,
       "version_minor": 0
      },
      "text/plain": [
       "VBox(children=(Output(layout=Layout(border='1px solid black', height='40px')), Button(description='Stop', styl…"
      ]
     },
     "metadata": {},
     "output_type": "display_data"
    }
   ],
   "source": [
    "out.clear_output()\n",
    "display(widgets.VBox([out,button]))\n",
    "\n",
    "STOPSERIAL = False\n",
    "\n",
    "def get_serial():\n",
    "    try:\n",
    "        with serial.Serial('COM6', 115200, timeout=1) as ser:  \n",
    "            ser.reset_input_buffer()\n",
    "            global STOPSERIAL\n",
    "            while not STOPSERIAL:\n",
    "                data=ser.readline()\n",
    "                if (len(data)>0):\n",
    "                    with out:\n",
    "                        out.clear_output()\n",
    "                        res=data.decode('ascii').rstrip()\n",
    "                        if res==\"Yes\":\n",
    "                            display(HTML(\"<p style='color:#00AA00';>YES</p>\"))\n",
    "                        else:\n",
    "                            print(res)\n",
    "            with out:\n",
    "                out.clear_output()\n",
    "                print(\"Communication closed\")\n",
    "    except Exception as inst:\n",
    "        with out:\n",
    "            out.clear_output()\n",
    "            print(inst)\n",
    "            \n",
    "t = threading.Thread(target=get_serial)\n",
    "t.start()\n"
   ]
  }
 ],
 "metadata": {
  "kernelspec": {
   "display_name": "Python 3 (ipykernel)",
   "language": "python",
   "name": "python3"
  },
  "language_info": {
   "codemirror_mode": {
    "name": "ipython",
    "version": 3
   },
   "file_extension": ".py",
   "mimetype": "text/x-python",
   "name": "python",
   "nbconvert_exporter": "python",
   "pygments_lexer": "ipython3",
   "version": "3.10.0"
  }
 },
 "nbformat": 4,
 "nbformat_minor": 5
}
